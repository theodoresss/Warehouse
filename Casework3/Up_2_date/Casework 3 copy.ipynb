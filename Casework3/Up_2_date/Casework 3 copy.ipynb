{
 "cells": [
  {
   "cell_type": "code",
   "execution_count": 146,
   "id": "a4371454",
   "metadata": {},
   "outputs": [],
   "source": [
    "import pandas as pd\n",
    "import numpy as np\n",
    "import pytz\n",
    "import plotly \n",
    "import geopy"
   ]
  },
  {
   "cell_type": "code",
   "execution_count": 147,
   "id": "622002f5",
   "metadata": {},
   "outputs": [],
   "source": [
    "orders_raw= pd.read_csv('ISyE 6202 2022 Caseworks 3.1 and 3.2 Orders.csv')\n",
    "meta = pd.read_excel('ISyE 6202 2022 Caseworks 3.1 and 3.2 MetaData.xlsx')\n",
    "\n",
    "xls = pd.ExcelFile('ISyE 6202 2022 Caseworks 3.1 and 3.2 MetaData.xlsx')\n",
    "category = pd.read_excel(xls, 'Product Categorization')\n",
    "dim = pd.read_excel(xls, 'Modular Package Dimensions')\n",
    "sp_lead_times = pd.read_excel(xls, 'Supply Lead Times')\n",
    "dilv_tim_com = pd.read_excel(xls, 'Delivery Time Commitment')\n",
    "\n",
    "zips = pd.read_csv('ISyE 6202 2022 Caseworks 3.1 and 3.2 ZIP3 US.csv')\n",
    "\n",
    "#zip_state= pd.read_csv('uszips.csv')"
   ]
  },
  {
   "cell_type": "code",
   "execution_count": 148,
   "id": "9a3ed732",
   "metadata": {},
   "outputs": [
    {
     "data": {
      "text/html": [
       "<div>\n",
       "<style scoped>\n",
       "    .dataframe tbody tr th:only-of-type {\n",
       "        vertical-align: middle;\n",
       "    }\n",
       "\n",
       "    .dataframe tbody tr th {\n",
       "        vertical-align: top;\n",
       "    }\n",
       "\n",
       "    .dataframe thead th {\n",
       "        text-align: right;\n",
       "    }\n",
       "</style>\n",
       "<table border=\"1\" class=\"dataframe\">\n",
       "  <thead>\n",
       "    <tr style=\"text-align: right;\">\n",
       "      <th></th>\n",
       "      <th>Order_Date</th>\n",
       "      <th>Product</th>\n",
       "      <th>product category</th>\n",
       "      <th>sub-category</th>\n",
       "      <th>ZIP_3d</th>\n",
       "      <th>Country</th>\n",
       "      <th>Quantity</th>\n",
       "    </tr>\n",
       "  </thead>\n",
       "  <tbody>\n",
       "    <tr>\n",
       "      <th>0</th>\n",
       "      <td>2019-01-01</td>\n",
       "      <td>1</td>\n",
       "      <td>A</td>\n",
       "      <td>f</td>\n",
       "      <td>70</td>\n",
       "      <td>US</td>\n",
       "      <td>61</td>\n",
       "    </tr>\n",
       "    <tr>\n",
       "      <th>1</th>\n",
       "      <td>2019-01-01</td>\n",
       "      <td>1</td>\n",
       "      <td>A</td>\n",
       "      <td>f</td>\n",
       "      <td>70</td>\n",
       "      <td>US</td>\n",
       "      <td>84</td>\n",
       "    </tr>\n",
       "    <tr>\n",
       "      <th>2</th>\n",
       "      <td>2019-01-01</td>\n",
       "      <td>1</td>\n",
       "      <td>A</td>\n",
       "      <td>f</td>\n",
       "      <td>115</td>\n",
       "      <td>US</td>\n",
       "      <td>56</td>\n",
       "    </tr>\n",
       "    <tr>\n",
       "      <th>3</th>\n",
       "      <td>2019-01-01</td>\n",
       "      <td>1</td>\n",
       "      <td>A</td>\n",
       "      <td>f</td>\n",
       "      <td>191</td>\n",
       "      <td>US</td>\n",
       "      <td>65</td>\n",
       "    </tr>\n",
       "    <tr>\n",
       "      <th>4</th>\n",
       "      <td>2019-01-01</td>\n",
       "      <td>1</td>\n",
       "      <td>A</td>\n",
       "      <td>f</td>\n",
       "      <td>272</td>\n",
       "      <td>US</td>\n",
       "      <td>84</td>\n",
       "    </tr>\n",
       "    <tr>\n",
       "      <th>...</th>\n",
       "      <td>...</td>\n",
       "      <td>...</td>\n",
       "      <td>...</td>\n",
       "      <td>...</td>\n",
       "      <td>...</td>\n",
       "      <td>...</td>\n",
       "      <td>...</td>\n",
       "    </tr>\n",
       "    <tr>\n",
       "      <th>713568</th>\n",
       "      <td>2019-12-31</td>\n",
       "      <td>771</td>\n",
       "      <td>Y</td>\n",
       "      <td>s</td>\n",
       "      <td>322</td>\n",
       "      <td>US</td>\n",
       "      <td>70</td>\n",
       "    </tr>\n",
       "    <tr>\n",
       "      <th>713569</th>\n",
       "      <td>2019-12-31</td>\n",
       "      <td>771</td>\n",
       "      <td>Y</td>\n",
       "      <td>s</td>\n",
       "      <td>841</td>\n",
       "      <td>US</td>\n",
       "      <td>63</td>\n",
       "    </tr>\n",
       "    <tr>\n",
       "      <th>713570</th>\n",
       "      <td>2019-12-31</td>\n",
       "      <td>771</td>\n",
       "      <td>Y</td>\n",
       "      <td>s</td>\n",
       "      <td>852</td>\n",
       "      <td>US</td>\n",
       "      <td>59</td>\n",
       "    </tr>\n",
       "    <tr>\n",
       "      <th>713571</th>\n",
       "      <td>2019-12-31</td>\n",
       "      <td>777</td>\n",
       "      <td>Y</td>\n",
       "      <td>s</td>\n",
       "      <td>490</td>\n",
       "      <td>US</td>\n",
       "      <td>58</td>\n",
       "    </tr>\n",
       "    <tr>\n",
       "      <th>713572</th>\n",
       "      <td>2019-12-31</td>\n",
       "      <td>778</td>\n",
       "      <td>Y</td>\n",
       "      <td>s</td>\n",
       "      <td>144</td>\n",
       "      <td>US</td>\n",
       "      <td>60</td>\n",
       "    </tr>\n",
       "  </tbody>\n",
       "</table>\n",
       "<p>713573 rows × 7 columns</p>\n",
       "</div>"
      ],
      "text/plain": [
       "       Order_Date  Product product category sub-category  ZIP_3d Country  \\\n",
       "0      2019-01-01        1                A            f      70      US   \n",
       "1      2019-01-01        1                A            f      70      US   \n",
       "2      2019-01-01        1                A            f     115      US   \n",
       "3      2019-01-01        1                A            f     191      US   \n",
       "4      2019-01-01        1                A            f     272      US   \n",
       "...           ...      ...              ...          ...     ...     ...   \n",
       "713568 2019-12-31      771                Y            s     322      US   \n",
       "713569 2019-12-31      771                Y            s     841      US   \n",
       "713570 2019-12-31      771                Y            s     852      US   \n",
       "713571 2019-12-31      777                Y            s     490      US   \n",
       "713572 2019-12-31      778                Y            s     144      US   \n",
       "\n",
       "        Quantity  \n",
       "0             61  \n",
       "1             84  \n",
       "2             56  \n",
       "3             65  \n",
       "4             84  \n",
       "...          ...  \n",
       "713568        70  \n",
       "713569        63  \n",
       "713570        59  \n",
       "713571        58  \n",
       "713572        60  \n",
       "\n",
       "[713573 rows x 7 columns]"
      ]
     },
     "execution_count": 148,
     "metadata": {},
     "output_type": "execute_result"
    }
   ],
   "source": [
    "# specify dtype of each column\n",
    "names = list(orders_raw.columns)\n",
    "dtypes = [\"datetime64[ns]\",int,str,str,int,str,int]\n",
    "orders_raw = orders_raw.astype(dict(zip(names,dtypes)))\n",
    "orders_raw"
   ]
  },
  {
   "cell_type": "code",
   "execution_count": 149,
   "id": "09687409",
   "metadata": {},
   "outputs": [],
   "source": [
    "states_2_letter = {\n",
    "        'AK': 'Alaska',\n",
    "        'AL': 'Alabama',\n",
    "        'AR': 'Arkansas',\n",
    "        'AS': 'American Samoa',\n",
    "        'AZ': 'Arizona',\n",
    "        'CA': 'California',\n",
    "        'CO': 'Colorado',\n",
    "        'CT': 'Connecticut',\n",
    "        'DC': 'District of Columbia',\n",
    "        'DE': 'Delaware',\n",
    "        'FL': 'Florida',\n",
    "        'GA': 'Georgia',\n",
    "        'GU': 'Guam',\n",
    "        'HI': 'Hawaii',\n",
    "        'IA': 'Iowa',\n",
    "        'ID': 'Idaho',\n",
    "        'IL': 'Illinois',\n",
    "        'IN': 'Indiana',\n",
    "        'KS': 'Kansas',\n",
    "        'KY': 'Kentucky',\n",
    "        'LA': 'Louisiana',\n",
    "        'MA': 'Massachusetts',\n",
    "        'MD': 'Maryland',\n",
    "        'ME': 'Maine',\n",
    "        'MI': 'Michigan',\n",
    "        'MN': 'Minnesota',\n",
    "        'MO': 'Missouri',\n",
    "        'MP': 'Northern Mariana Islands',\n",
    "        'MS': 'Mississippi',\n",
    "        'MT': 'Montana',\n",
    "        'NA': 'National',\n",
    "        'NC': 'North Carolina',\n",
    "        'ND': 'North Dakota',\n",
    "        'NE': 'Nebraska',\n",
    "        'NH': 'New Hampshire',\n",
    "        'NJ': 'New Jersey',\n",
    "        'NM': 'New Mexico',\n",
    "        'NV': 'Nevada',\n",
    "        'NY': 'New York',\n",
    "        'OH': 'Ohio',\n",
    "        'OK': 'Oklahoma',\n",
    "        'OR': 'Oregon',\n",
    "        'PA': 'Pennsylvania',\n",
    "        'PR': 'Puerto Rico',\n",
    "        'RI': 'Rhode Island',\n",
    "        'SC': 'South Carolina',\n",
    "        'SD': 'South Dakota',\n",
    "        'TN': 'Tennessee',\n",
    "        'TX': 'Texas',\n",
    "        'UT': 'Utah',\n",
    "        'VA': 'Virginia',\n",
    "        'VI': 'Virgin Islands',\n",
    "        'VT': 'Vermont',\n",
    "        'WA': 'Washington',\n",
    "        'WI': 'Wisconsin',\n",
    "        'WV': 'West Virginia',\n",
    "        'WY': 'Wyoming'\n",
    "}"
   ]
  },
  {
   "cell_type": "code",
   "execution_count": 150,
   "id": "8ce2e019",
   "metadata": {},
   "outputs": [],
   "source": [
    "us_state_to_abbrev = {\n",
    "    \"Alabama\": \"AL\",\n",
    "    \"Alaska\": \"AK\",\n",
    "    \"Arizona\": \"AZ\",\n",
    "    \"Arkansas\": \"AR\",\n",
    "    \"California\": \"CA\",\n",
    "    \"Colorado\": \"CO\",\n",
    "    \"Connecticut\": \"CT\",\n",
    "    \"Delaware\": \"DE\",\n",
    "    \"Florida\": \"FL\",\n",
    "    \"Georgia\": \"GA\",\n",
    "    \"Hawaii\": \"HI\",\n",
    "    \"Idaho\": \"ID\",\n",
    "    \"Illinois\": \"IL\",\n",
    "    \"Indiana\": \"IN\",\n",
    "    \"Iowa\": \"IA\",\n",
    "    \"Kansas\": \"KS\",\n",
    "    \"Kentucky\": \"KY\",\n",
    "    \"Louisiana\": \"LA\",\n",
    "    \"Maine\": \"ME\",\n",
    "    \"Maryland\": \"MD\",\n",
    "    \"Massachusetts\": \"MA\",\n",
    "    \"Michigan\": \"MI\",\n",
    "    \"Minnesota\": \"MN\",\n",
    "    \"Mississippi\": \"MS\",\n",
    "    \"Missouri\": \"MO\",\n",
    "    \"Montana\": \"MT\",\n",
    "    \"Nebraska\": \"NE\",\n",
    "    \"Nevada\": \"NV\",\n",
    "    \"New Hampshire\": \"NH\",\n",
    "    \"New Jersey\": \"NJ\",\n",
    "    \"New Mexico\": \"NM\",\n",
    "    \"New York\": \"NY\",\n",
    "    \"North Carolina\": \"NC\",\n",
    "    \"North Dakota\": \"ND\",\n",
    "    \"Ohio\": \"OH\",\n",
    "    \"Oklahoma\": \"OK\",\n",
    "    \"Oregon\": \"OR\",\n",
    "    \"Pennsylvania\": \"PA\",\n",
    "    \"Rhode Island\": \"RI\",\n",
    "    \"South Carolina\": \"SC\",\n",
    "    \"South Dakota\": \"SD\",\n",
    "    \"Tennessee\": \"TN\",\n",
    "    \"Texas\": \"TX\",\n",
    "    \"Utah\": \"UT\",\n",
    "    \"Vermont\": \"VT\",\n",
    "    \"Virginia\": \"VA\",\n",
    "    \"Washington\": \"WA\",\n",
    "    \"West Virginia\": \"WV\",\n",
    "    \"Wisconsin\": \"WI\",\n",
    "    \"Wyoming\": \"WY\",\n",
    "    \"District of Columbia\": \"DC\",\n",
    "    \"American Samoa\": \"AS\",\n",
    "    \"Guam\": \"GU\",\n",
    "    \"Northern Mariana Islands\": \"MP\",\n",
    "    \"Puerto Rico\": \"PR\",\n",
    "    \"United States Minor Outlying Islands\": \"UM\",\n",
    "    \"U.S. Virgin Islands\": \"VI\",\n",
    "}"
   ]
  },
  {
   "cell_type": "markdown",
   "id": "7b637f93",
   "metadata": {},
   "source": [
    "# Task 1"
   ]
  },
  {
   "cell_type": "markdown",
   "id": "cbea1613",
   "metadata": {},
   "source": [
    "## a"
   ]
  },
  {
   "cell_type": "code",
   "execution_count": 151,
   "id": "a56b6c8f",
   "metadata": {},
   "outputs": [
    {
     "data": {
      "text/html": [
       "<div>\n",
       "<style scoped>\n",
       "    .dataframe tbody tr th:only-of-type {\n",
       "        vertical-align: middle;\n",
       "    }\n",
       "\n",
       "    .dataframe tbody tr th {\n",
       "        vertical-align: top;\n",
       "    }\n",
       "\n",
       "    .dataframe thead th {\n",
       "        text-align: right;\n",
       "    }\n",
       "</style>\n",
       "<table border=\"1\" class=\"dataframe\">\n",
       "  <thead>\n",
       "    <tr style=\"text-align: right;\">\n",
       "      <th></th>\n",
       "      <th>Order_Date</th>\n",
       "      <th>Product</th>\n",
       "      <th>product category</th>\n",
       "      <th>sub-category</th>\n",
       "      <th>ZIP_3d</th>\n",
       "      <th>Country</th>\n",
       "      <th>Quantity</th>\n",
       "      <th>ZIP_str</th>\n",
       "      <th>ZIP3</th>\n",
       "      <th>Lat</th>\n",
       "      <th>Lon</th>\n",
       "    </tr>\n",
       "  </thead>\n",
       "  <tbody>\n",
       "    <tr>\n",
       "      <th>0</th>\n",
       "      <td>2019-01-01</td>\n",
       "      <td>1</td>\n",
       "      <td>A</td>\n",
       "      <td>f</td>\n",
       "      <td>70</td>\n",
       "      <td>US</td>\n",
       "      <td>61</td>\n",
       "      <td>07000</td>\n",
       "      <td>70</td>\n",
       "      <td>40.667400</td>\n",
       "      <td>-74.114600</td>\n",
       "    </tr>\n",
       "    <tr>\n",
       "      <th>1</th>\n",
       "      <td>2019-01-01</td>\n",
       "      <td>1</td>\n",
       "      <td>A</td>\n",
       "      <td>f</td>\n",
       "      <td>70</td>\n",
       "      <td>US</td>\n",
       "      <td>84</td>\n",
       "      <td>07000</td>\n",
       "      <td>70</td>\n",
       "      <td>40.667400</td>\n",
       "      <td>-74.114600</td>\n",
       "    </tr>\n",
       "    <tr>\n",
       "      <th>2</th>\n",
       "      <td>2019-01-01</td>\n",
       "      <td>7</td>\n",
       "      <td>A</td>\n",
       "      <td>f</td>\n",
       "      <td>70</td>\n",
       "      <td>US</td>\n",
       "      <td>83</td>\n",
       "      <td>07000</td>\n",
       "      <td>70</td>\n",
       "      <td>40.667400</td>\n",
       "      <td>-74.114600</td>\n",
       "    </tr>\n",
       "    <tr>\n",
       "      <th>3</th>\n",
       "      <td>2019-01-01</td>\n",
       "      <td>8</td>\n",
       "      <td>A</td>\n",
       "      <td>f</td>\n",
       "      <td>70</td>\n",
       "      <td>US</td>\n",
       "      <td>56</td>\n",
       "      <td>07000</td>\n",
       "      <td>70</td>\n",
       "      <td>40.667400</td>\n",
       "      <td>-74.114600</td>\n",
       "    </tr>\n",
       "    <tr>\n",
       "      <th>4</th>\n",
       "      <td>2019-01-01</td>\n",
       "      <td>255</td>\n",
       "      <td>H</td>\n",
       "      <td>f</td>\n",
       "      <td>70</td>\n",
       "      <td>US</td>\n",
       "      <td>68</td>\n",
       "      <td>07000</td>\n",
       "      <td>70</td>\n",
       "      <td>40.667400</td>\n",
       "      <td>-74.114600</td>\n",
       "    </tr>\n",
       "    <tr>\n",
       "      <th>...</th>\n",
       "      <td>...</td>\n",
       "      <td>...</td>\n",
       "      <td>...</td>\n",
       "      <td>...</td>\n",
       "      <td>...</td>\n",
       "      <td>...</td>\n",
       "      <td>...</td>\n",
       "      <td>...</td>\n",
       "      <td>...</td>\n",
       "      <td>...</td>\n",
       "      <td>...</td>\n",
       "    </tr>\n",
       "    <tr>\n",
       "      <th>713568</th>\n",
       "      <td>2019-10-07</td>\n",
       "      <td>258</td>\n",
       "      <td>H</td>\n",
       "      <td>f</td>\n",
       "      <td>772</td>\n",
       "      <td>US</td>\n",
       "      <td>126</td>\n",
       "      <td>77200</td>\n",
       "      <td>772</td>\n",
       "      <td>29.799679</td>\n",
       "      <td>-95.457756</td>\n",
       "    </tr>\n",
       "    <tr>\n",
       "      <th>713569</th>\n",
       "      <td>2019-12-05</td>\n",
       "      <td>255</td>\n",
       "      <td>H</td>\n",
       "      <td>f</td>\n",
       "      <td>772</td>\n",
       "      <td>US</td>\n",
       "      <td>81</td>\n",
       "      <td>77200</td>\n",
       "      <td>772</td>\n",
       "      <td>29.799679</td>\n",
       "      <td>-95.457756</td>\n",
       "    </tr>\n",
       "    <tr>\n",
       "      <th>713570</th>\n",
       "      <td>2019-09-03</td>\n",
       "      <td>251</td>\n",
       "      <td>H</td>\n",
       "      <td>f</td>\n",
       "      <td>204</td>\n",
       "      <td>US</td>\n",
       "      <td>67</td>\n",
       "      <td>20400</td>\n",
       "      <td>204</td>\n",
       "      <td>38.897589</td>\n",
       "      <td>-77.028096</td>\n",
       "    </tr>\n",
       "    <tr>\n",
       "      <th>713571</th>\n",
       "      <td>2019-11-10</td>\n",
       "      <td>370</td>\n",
       "      <td>L</td>\n",
       "      <td>m</td>\n",
       "      <td>59</td>\n",
       "      <td>US</td>\n",
       "      <td>66</td>\n",
       "      <td>05900</td>\n",
       "      <td>59</td>\n",
       "      <td>44.726674</td>\n",
       "      <td>-71.663170</td>\n",
       "    </tr>\n",
       "    <tr>\n",
       "      <th>713572</th>\n",
       "      <td>2019-11-15</td>\n",
       "      <td>266</td>\n",
       "      <td>H</td>\n",
       "      <td>f</td>\n",
       "      <td>202</td>\n",
       "      <td>US</td>\n",
       "      <td>80</td>\n",
       "      <td>20200</td>\n",
       "      <td>202</td>\n",
       "      <td>38.892084</td>\n",
       "      <td>-77.017711</td>\n",
       "    </tr>\n",
       "  </tbody>\n",
       "</table>\n",
       "<p>713573 rows × 11 columns</p>\n",
       "</div>"
      ],
      "text/plain": [
       "       Order_Date  Product product category sub-category  ZIP_3d Country  \\\n",
       "0      2019-01-01        1                A            f      70      US   \n",
       "1      2019-01-01        1                A            f      70      US   \n",
       "2      2019-01-01        7                A            f      70      US   \n",
       "3      2019-01-01        8                A            f      70      US   \n",
       "4      2019-01-01      255                H            f      70      US   \n",
       "...           ...      ...              ...          ...     ...     ...   \n",
       "713568 2019-10-07      258                H            f     772      US   \n",
       "713569 2019-12-05      255                H            f     772      US   \n",
       "713570 2019-09-03      251                H            f     204      US   \n",
       "713571 2019-11-10      370                L            m      59      US   \n",
       "713572 2019-11-15      266                H            f     202      US   \n",
       "\n",
       "        Quantity ZIP_str  ZIP3        Lat        Lon  \n",
       "0             61   07000    70  40.667400 -74.114600  \n",
       "1             84   07000    70  40.667400 -74.114600  \n",
       "2             83   07000    70  40.667400 -74.114600  \n",
       "3             56   07000    70  40.667400 -74.114600  \n",
       "4             68   07000    70  40.667400 -74.114600  \n",
       "...          ...     ...   ...        ...        ...  \n",
       "713568       126   77200   772  29.799679 -95.457756  \n",
       "713569        81   77200   772  29.799679 -95.457756  \n",
       "713570        67   20400   204  38.897589 -77.028096  \n",
       "713571        66   05900    59  44.726674 -71.663170  \n",
       "713572        80   20200   202  38.892084 -77.017711  \n",
       "\n",
       "[713573 rows x 11 columns]"
      ]
     },
     "execution_count": 151,
     "metadata": {},
     "output_type": "execute_result"
    }
   ],
   "source": [
    "orders=orders_raw.copy()\n",
    "orders['ZIP_str'] = [str(x).zfill(3) + '00' for x in orders['ZIP_3d']]\n",
    "zips['ZIP_3d'] = zips['ZIP3']\n",
    "zips.drop(axis = 1, columns = ['ZIP3'])\n",
    "orders = pd.merge(orders, zips, on='ZIP_3d')\n",
    "orders"
   ]
  },
  {
   "cell_type": "code",
   "execution_count": 152,
   "id": "2fd47a7e",
   "metadata": {},
   "outputs": [
    {
     "data": {
      "text/html": [
       "<div>\n",
       "<style scoped>\n",
       "    .dataframe tbody tr th:only-of-type {\n",
       "        vertical-align: middle;\n",
       "    }\n",
       "\n",
       "    .dataframe tbody tr th {\n",
       "        vertical-align: top;\n",
       "    }\n",
       "\n",
       "    .dataframe thead th {\n",
       "        text-align: right;\n",
       "    }\n",
       "</style>\n",
       "<table border=\"1\" class=\"dataframe\">\n",
       "  <thead>\n",
       "    <tr style=\"text-align: right;\">\n",
       "      <th></th>\n",
       "      <th>Lat</th>\n",
       "      <th>Lon</th>\n",
       "      <th>Quantity</th>\n",
       "    </tr>\n",
       "  </thead>\n",
       "  <tbody>\n",
       "    <tr>\n",
       "      <th>0</th>\n",
       "      <td>20.666774</td>\n",
       "      <td>-157.292398</td>\n",
       "      <td>73437</td>\n",
       "    </tr>\n",
       "    <tr>\n",
       "      <th>1</th>\n",
       "      <td>21.316271</td>\n",
       "      <td>-157.858771</td>\n",
       "      <td>34652</td>\n",
       "    </tr>\n",
       "    <tr>\n",
       "      <th>2</th>\n",
       "      <td>25.771400</td>\n",
       "      <td>-80.206350</td>\n",
       "      <td>1692</td>\n",
       "    </tr>\n",
       "    <tr>\n",
       "      <th>3</th>\n",
       "      <td>25.787712</td>\n",
       "      <td>-80.241397</td>\n",
       "      <td>464854</td>\n",
       "    </tr>\n",
       "    <tr>\n",
       "      <th>4</th>\n",
       "      <td>25.957772</td>\n",
       "      <td>-80.258590</td>\n",
       "      <td>334839</td>\n",
       "    </tr>\n",
       "    <tr>\n",
       "      <th>...</th>\n",
       "      <td>...</td>\n",
       "      <td>...</td>\n",
       "      <td>...</td>\n",
       "    </tr>\n",
       "    <tr>\n",
       "      <th>884</th>\n",
       "      <td>55.847715</td>\n",
       "      <td>-132.703055</td>\n",
       "      <td>2037</td>\n",
       "    </tr>\n",
       "    <tr>\n",
       "      <th>885</th>\n",
       "      <td>58.188334</td>\n",
       "      <td>-135.227811</td>\n",
       "      <td>3872</td>\n",
       "    </tr>\n",
       "    <tr>\n",
       "      <th>886</th>\n",
       "      <td>60.524385</td>\n",
       "      <td>-153.405946</td>\n",
       "      <td>11541</td>\n",
       "    </tr>\n",
       "    <tr>\n",
       "      <th>887</th>\n",
       "      <td>60.970213</td>\n",
       "      <td>-151.140110</td>\n",
       "      <td>22453</td>\n",
       "    </tr>\n",
       "    <tr>\n",
       "      <th>888</th>\n",
       "      <td>65.359648</td>\n",
       "      <td>-151.894015</td>\n",
       "      <td>13113</td>\n",
       "    </tr>\n",
       "  </tbody>\n",
       "</table>\n",
       "<p>889 rows × 3 columns</p>\n",
       "</div>"
      ],
      "text/plain": [
       "           Lat         Lon  Quantity\n",
       "0    20.666774 -157.292398     73437\n",
       "1    21.316271 -157.858771     34652\n",
       "2    25.771400  -80.206350      1692\n",
       "3    25.787712  -80.241397    464854\n",
       "4    25.957772  -80.258590    334839\n",
       "..         ...         ...       ...\n",
       "884  55.847715 -132.703055      2037\n",
       "885  58.188334 -135.227811      3872\n",
       "886  60.524385 -153.405946     11541\n",
       "887  60.970213 -151.140110     22453\n",
       "888  65.359648 -151.894015     13113\n",
       "\n",
       "[889 rows x 3 columns]"
      ]
     },
     "execution_count": 152,
     "metadata": {},
     "output_type": "execute_result"
    }
   ],
   "source": [
    "# coordinates globally\n",
    "glob = orders.groupby(['Lat', 'Lon'])['Quantity'].sum()\n",
    "glob = pd.DataFrame(data = glob).reset_index()\n",
    "glob"
   ]
  },
  {
   "cell_type": "code",
   "execution_count": 153,
   "id": "5cb42b34",
   "metadata": {},
   "outputs": [
    {
     "data": {
      "text/html": [
       "<div>\n",
       "<style scoped>\n",
       "    .dataframe tbody tr th:only-of-type {\n",
       "        vertical-align: middle;\n",
       "    }\n",
       "\n",
       "    .dataframe tbody tr th {\n",
       "        vertical-align: top;\n",
       "    }\n",
       "\n",
       "    .dataframe thead th {\n",
       "        text-align: right;\n",
       "    }\n",
       "</style>\n",
       "<table border=\"1\" class=\"dataframe\">\n",
       "  <thead>\n",
       "    <tr style=\"text-align: right;\">\n",
       "      <th></th>\n",
       "      <th>Lat</th>\n",
       "      <th>Lon</th>\n",
       "      <th>product category</th>\n",
       "      <th>Quantity</th>\n",
       "    </tr>\n",
       "  </thead>\n",
       "  <tbody>\n",
       "    <tr>\n",
       "      <th>0</th>\n",
       "      <td>20.666774</td>\n",
       "      <td>-157.292398</td>\n",
       "      <td>A</td>\n",
       "      <td>3137</td>\n",
       "    </tr>\n",
       "    <tr>\n",
       "      <th>1</th>\n",
       "      <td>20.666774</td>\n",
       "      <td>-157.292398</td>\n",
       "      <td>B</td>\n",
       "      <td>82</td>\n",
       "    </tr>\n",
       "    <tr>\n",
       "      <th>2</th>\n",
       "      <td>20.666774</td>\n",
       "      <td>-157.292398</td>\n",
       "      <td>C</td>\n",
       "      <td>429</td>\n",
       "    </tr>\n",
       "    <tr>\n",
       "      <th>3</th>\n",
       "      <td>20.666774</td>\n",
       "      <td>-157.292398</td>\n",
       "      <td>D</td>\n",
       "      <td>9414</td>\n",
       "    </tr>\n",
       "    <tr>\n",
       "      <th>4</th>\n",
       "      <td>20.666774</td>\n",
       "      <td>-157.292398</td>\n",
       "      <td>F</td>\n",
       "      <td>145</td>\n",
       "    </tr>\n",
       "    <tr>\n",
       "      <th>...</th>\n",
       "      <td>...</td>\n",
       "      <td>...</td>\n",
       "      <td>...</td>\n",
       "      <td>...</td>\n",
       "    </tr>\n",
       "    <tr>\n",
       "      <th>15094</th>\n",
       "      <td>65.359648</td>\n",
       "      <td>-151.894015</td>\n",
       "      <td>Q</td>\n",
       "      <td>577</td>\n",
       "    </tr>\n",
       "    <tr>\n",
       "      <th>15095</th>\n",
       "      <td>65.359648</td>\n",
       "      <td>-151.894015</td>\n",
       "      <td>R</td>\n",
       "      <td>867</td>\n",
       "    </tr>\n",
       "    <tr>\n",
       "      <th>15096</th>\n",
       "      <td>65.359648</td>\n",
       "      <td>-151.894015</td>\n",
       "      <td>S</td>\n",
       "      <td>622</td>\n",
       "    </tr>\n",
       "    <tr>\n",
       "      <th>15097</th>\n",
       "      <td>65.359648</td>\n",
       "      <td>-151.894015</td>\n",
       "      <td>U</td>\n",
       "      <td>698</td>\n",
       "    </tr>\n",
       "    <tr>\n",
       "      <th>15098</th>\n",
       "      <td>65.359648</td>\n",
       "      <td>-151.894015</td>\n",
       "      <td>Y</td>\n",
       "      <td>355</td>\n",
       "    </tr>\n",
       "  </tbody>\n",
       "</table>\n",
       "<p>15099 rows × 4 columns</p>\n",
       "</div>"
      ],
      "text/plain": [
       "             Lat         Lon product category  Quantity\n",
       "0      20.666774 -157.292398                A      3137\n",
       "1      20.666774 -157.292398                B        82\n",
       "2      20.666774 -157.292398                C       429\n",
       "3      20.666774 -157.292398                D      9414\n",
       "4      20.666774 -157.292398                F       145\n",
       "...          ...         ...              ...       ...\n",
       "15094  65.359648 -151.894015                Q       577\n",
       "15095  65.359648 -151.894015                R       867\n",
       "15096  65.359648 -151.894015                S       622\n",
       "15097  65.359648 -151.894015                U       698\n",
       "15098  65.359648 -151.894015                Y       355\n",
       "\n",
       "[15099 rows x 4 columns]"
      ]
     },
     "execution_count": 153,
     "metadata": {},
     "output_type": "execute_result"
    }
   ],
   "source": [
    "# coordinates by product categroy\n",
    "product_cate = orders.groupby(['Lat', 'Lon','product category'])['Quantity'].sum()\n",
    "product_cate = pd.DataFrame(data = product_cate).reset_index()\n",
    "product_cate"
   ]
  },
  {
   "cell_type": "code",
   "execution_count": 154,
   "id": "1800c271",
   "metadata": {},
   "outputs": [
    {
     "data": {
      "text/html": [
       "<div>\n",
       "<style scoped>\n",
       "    .dataframe tbody tr th:only-of-type {\n",
       "        vertical-align: middle;\n",
       "    }\n",
       "\n",
       "    .dataframe tbody tr th {\n",
       "        vertical-align: top;\n",
       "    }\n",
       "\n",
       "    .dataframe thead th {\n",
       "        text-align: right;\n",
       "    }\n",
       "</style>\n",
       "<table border=\"1\" class=\"dataframe\">\n",
       "  <thead>\n",
       "    <tr style=\"text-align: right;\">\n",
       "      <th></th>\n",
       "      <th>Lat</th>\n",
       "      <th>Lon</th>\n",
       "      <th>product category</th>\n",
       "      <th>Quantity</th>\n",
       "    </tr>\n",
       "  </thead>\n",
       "  <tbody>\n",
       "    <tr>\n",
       "      <th>0</th>\n",
       "      <td>20.666774</td>\n",
       "      <td>-157.292398</td>\n",
       "      <td>A</td>\n",
       "      <td>3137</td>\n",
       "    </tr>\n",
       "    <tr>\n",
       "      <th>20</th>\n",
       "      <td>21.316271</td>\n",
       "      <td>-157.858771</td>\n",
       "      <td>A</td>\n",
       "      <td>1424</td>\n",
       "    </tr>\n",
       "    <tr>\n",
       "      <th>40</th>\n",
       "      <td>25.771400</td>\n",
       "      <td>-80.206350</td>\n",
       "      <td>A</td>\n",
       "      <td>81</td>\n",
       "    </tr>\n",
       "    <tr>\n",
       "      <th>48</th>\n",
       "      <td>25.787712</td>\n",
       "      <td>-80.241397</td>\n",
       "      <td>A</td>\n",
       "      <td>27048</td>\n",
       "    </tr>\n",
       "    <tr>\n",
       "      <th>72</th>\n",
       "      <td>25.957772</td>\n",
       "      <td>-80.258590</td>\n",
       "      <td>A</td>\n",
       "      <td>21620</td>\n",
       "    </tr>\n",
       "    <tr>\n",
       "      <th>...</th>\n",
       "      <td>...</td>\n",
       "      <td>...</td>\n",
       "      <td>...</td>\n",
       "      <td>...</td>\n",
       "    </tr>\n",
       "    <tr>\n",
       "      <th>15034</th>\n",
       "      <td>55.847715</td>\n",
       "      <td>-132.703055</td>\n",
       "      <td>A</td>\n",
       "      <td>122</td>\n",
       "    </tr>\n",
       "    <tr>\n",
       "      <th>15043</th>\n",
       "      <td>58.188334</td>\n",
       "      <td>-135.227811</td>\n",
       "      <td>A</td>\n",
       "      <td>350</td>\n",
       "    </tr>\n",
       "    <tr>\n",
       "      <th>15055</th>\n",
       "      <td>60.524385</td>\n",
       "      <td>-153.405946</td>\n",
       "      <td>A</td>\n",
       "      <td>1009</td>\n",
       "    </tr>\n",
       "    <tr>\n",
       "      <th>15071</th>\n",
       "      <td>60.970213</td>\n",
       "      <td>-151.140110</td>\n",
       "      <td>A</td>\n",
       "      <td>1636</td>\n",
       "    </tr>\n",
       "    <tr>\n",
       "      <th>15087</th>\n",
       "      <td>65.359648</td>\n",
       "      <td>-151.894015</td>\n",
       "      <td>A</td>\n",
       "      <td>3036</td>\n",
       "    </tr>\n",
       "  </tbody>\n",
       "</table>\n",
       "<p>879 rows × 4 columns</p>\n",
       "</div>"
      ],
      "text/plain": [
       "             Lat         Lon product category  Quantity\n",
       "0      20.666774 -157.292398                A      3137\n",
       "20     21.316271 -157.858771                A      1424\n",
       "40     25.771400  -80.206350                A        81\n",
       "48     25.787712  -80.241397                A     27048\n",
       "72     25.957772  -80.258590                A     21620\n",
       "...          ...         ...              ...       ...\n",
       "15034  55.847715 -132.703055                A       122\n",
       "15043  58.188334 -135.227811                A       350\n",
       "15055  60.524385 -153.405946                A      1009\n",
       "15071  60.970213 -151.140110                A      1636\n",
       "15087  65.359648 -151.894015                A      3036\n",
       "\n",
       "[879 rows x 4 columns]"
      ]
     },
     "execution_count": 154,
     "metadata": {},
     "output_type": "execute_result"
    }
   ],
   "source": [
    "prdct_by_cat_dict={}\n",
    "iter_cat = product_cate['product category'].unique()\n",
    "for cat in iter_cat:\n",
    "    prdct_by_cat_dict[cat] = product_cate[product_cate['product category']==cat]\n",
    "prdct_by_cat_dict['A']"
   ]
  },
  {
   "cell_type": "code",
   "execution_count": 155,
   "id": "fc94c273",
   "metadata": {},
   "outputs": [
    {
     "data": {
      "text/plain": [
       "\"glob1 = orders.groupby('ZIP_str')['Quantity'].sum()\\nglob1 = pd.DataFrame(data = glob1).reset_index()\\nglob1['zip'] = [int(x) for x in glob1['ZIP_str']]\""
      ]
     },
     "execution_count": 155,
     "metadata": {},
     "output_type": "execute_result"
    }
   ],
   "source": [
    "\"\"\"glob1 = orders.groupby('ZIP_str')['Quantity'].sum()\n",
    "glob1 = pd.DataFrame(data = glob1).reset_index()\n",
    "glob1['zip'] = [int(x) for x in glob1['ZIP_str']]\"\"\""
   ]
  },
  {
   "cell_type": "markdown",
   "id": "1834841e",
   "metadata": {},
   "source": [
    "### State-Heatmap"
   ]
  },
  {
   "cell_type": "code",
   "execution_count": 105,
   "id": "1487f378",
   "metadata": {},
   "outputs": [
    {
     "name": "stdout",
     "output_type": "stream",
     "text": [
      "Requirement already satisfied: geopy in /opt/anaconda3/lib/python3.9/site-packages (2.2.0)\n",
      "Requirement already satisfied: geographiclib<2,>=1.49 in /opt/anaconda3/lib/python3.9/site-packages (from geopy) (1.52)\n",
      "Collecting plotly-express\n",
      "  Downloading plotly_express-0.4.1-py2.py3-none-any.whl (2.9 kB)\n",
      "Requirement already satisfied: plotly>=4.1.0 in /opt/anaconda3/lib/python3.9/site-packages (from plotly-express) (5.10.0)\n",
      "Requirement already satisfied: numpy>=1.11 in /opt/anaconda3/lib/python3.9/site-packages (from plotly-express) (1.20.3)\n",
      "Requirement already satisfied: patsy>=0.5 in /opt/anaconda3/lib/python3.9/site-packages (from plotly-express) (0.5.2)\n",
      "Requirement already satisfied: scipy>=0.18 in /opt/anaconda3/lib/python3.9/site-packages (from plotly-express) (1.7.1)\n",
      "Requirement already satisfied: statsmodels>=0.9.0 in /opt/anaconda3/lib/python3.9/site-packages (from plotly-express) (0.12.2)\n",
      "Requirement already satisfied: pandas>=0.20.0 in /opt/anaconda3/lib/python3.9/site-packages (from plotly-express) (1.3.4)\n",
      "Requirement already satisfied: python-dateutil>=2.7.3 in /opt/anaconda3/lib/python3.9/site-packages (from pandas>=0.20.0->plotly-express) (2.8.2)\n",
      "Requirement already satisfied: pytz>=2017.3 in /opt/anaconda3/lib/python3.9/site-packages (from pandas>=0.20.0->plotly-express) (2021.3)\n",
      "Requirement already satisfied: six in /opt/anaconda3/lib/python3.9/site-packages (from patsy>=0.5->plotly-express) (1.16.0)\n",
      "Requirement already satisfied: tenacity>=6.2.0 in /opt/anaconda3/lib/python3.9/site-packages (from plotly>=4.1.0->plotly-express) (8.1.0)\n",
      "Installing collected packages: plotly-express\n",
      "Successfully installed plotly-express-0.4.1\n"
     ]
    }
   ],
   "source": [
    "!pip install geopy\n",
    "!pip install plotly-express\n",
    "\n",
    "from geopy.geocoders import Nominatim\n",
    "import plotly.express as px\n",
    "\n",
    "geolocator = Nominatim(user_agent=\"geoapiExercises\")"
   ]
  },
  {
   "cell_type": "code",
   "execution_count": 212,
   "id": "00d86cd0",
   "metadata": {},
   "outputs": [],
   "source": [
    "# Get state col based on the coordinate\n",
    "def get_state(df):\n",
    "    state = []\n",
    "    df = pd.DataFrame(data = df).reset_index()\n",
    "    for i in range(len(df)):\n",
    "        location = geolocator.reverse((df['Lat'][i], df['Lon'][i]))\n",
    "        if location != None:\n",
    "            state.append(location.raw['address']['state'])\n",
    "        else:\n",
    "            state.append(None)\n",
    "    df['state']=state\n",
    "    df['state_code']= df['state'].map(us_state_to_abbrev)"
   ]
  },
  {
   "cell_type": "code",
   "execution_count": 216,
   "id": "f47167be",
   "metadata": {},
   "outputs": [],
   "source": [
    "# Plot State Heatmap function\n",
    "def state_heatmap(df):\n",
    "    df_state=df.groupby(['state_code','state'])['Quantity'].sum()\n",
    "    df_state = pd.DataFrame(data = df_state).reset_index()\n",
    "    fig = px.choropleth(df_state,\n",
    "                        locations='state_code', \n",
    "                        locationmode=\"USA-states\", \n",
    "                        scope=\"usa\",\n",
    "                        color='Quantity',\n",
    "                        color_continuous_scale=\"amp\", \n",
    "                        #animation_frame='Order_Date'\n",
    "                        )\n",
    "    fig.show()"
   ]
  },
  {
   "cell_type": "markdown",
   "id": "01371093",
   "metadata": {},
   "source": [
    "#### Globally"
   ]
  },
  {
   "cell_type": "code",
   "execution_count": 51,
   "id": "5c3b20ac",
   "metadata": {},
   "outputs": [],
   "source": [
    "get_state(glob)"
   ]
  },
  {
   "cell_type": "code",
   "execution_count": 108,
   "id": "c4c9e63b",
   "metadata": {
    "scrolled": true
   },
   "outputs": [
    {
     "data": {
      "application/vnd.plotly.v1+json": {
       "config": {
        "plotlyServerURL": "https://plot.ly"
       },
       "data": [
        {
         "coloraxis": "coloraxis",
         "geo": "geo",
         "hovertemplate": "state_code=%{location}<br>Quantity=%{z}<extra></extra>",
         "locationmode": "USA-states",
         "locations": [
          "AK",
          "AL",
          "AR",
          "AZ",
          "CA",
          "CO",
          "CT",
          "DC",
          "DE",
          "FL",
          "GA",
          "HI",
          "IA",
          "ID",
          "IL",
          "IN",
          "KS",
          "KY",
          "LA",
          "MA",
          "MD",
          "ME",
          "MI",
          "MN",
          "MO",
          "MS",
          "MT",
          "NC",
          "ND",
          "NE",
          "NH",
          "NJ",
          "NM",
          "NV",
          "NY",
          "OH",
          "OK",
          "OR",
          "PA",
          "RI",
          "SC",
          "SD",
          "TN",
          "TX",
          "UT",
          "VA",
          "VT",
          "WA",
          "WI",
          "WV",
          "WY"
         ],
         "name": "",
         "type": "choropleth",
         "z": [
          53016,
          591453,
          344767,
          1320077,
          6537109,
          1468117,
          585263,
          215996,
          218737,
          4192084,
          1625626,
          34652,
          409539,
          346875,
          2100043,
          1020518,
          390691,
          704490,
          634364,
          1479822,
          1351830,
          229708,
          1630317,
          733383,
          848459,
          298822,
          188989,
          1631207,
          154884,
          267190,
          291941,
          2054104,
          327956,
          637210,
          4573970,
          1835251,
          512706,
          675083,
          2329062,
          186000,
          780347,
          118912,
          994142,
          4001381,
          661163,
          1697867,
          104120,
          1493471,
          824574,
          278705,
          122492
         ]
        }
       ],
       "layout": {
        "coloraxis": {
         "colorbar": {
          "title": {
           "text": "Quantity"
          }
         },
         "colorscale": [
          [
           0,
           "rgb(241, 236, 236)"
          ],
          [
           0.09090909090909091,
           "rgb(230, 209, 203)"
          ],
          [
           0.18181818181818182,
           "rgb(221, 182, 170)"
          ],
          [
           0.2727272727272727,
           "rgb(213, 156, 137)"
          ],
          [
           0.36363636363636365,
           "rgb(205, 129, 103)"
          ],
          [
           0.45454545454545453,
           "rgb(196, 102, 73)"
          ],
          [
           0.5454545454545454,
           "rgb(186, 74, 47)"
          ],
          [
           0.6363636363636364,
           "rgb(172, 44, 36)"
          ],
          [
           0.7272727272727273,
           "rgb(149, 19, 39)"
          ],
          [
           0.8181818181818182,
           "rgb(120, 14, 40)"
          ],
          [
           0.9090909090909091,
           "rgb(89, 13, 31)"
          ],
          [
           1,
           "rgb(60, 9, 17)"
          ]
         ]
        },
        "geo": {
         "center": {},
         "domain": {
          "x": [
           0,
           1
          ],
          "y": [
           0,
           1
          ]
         },
         "scope": "usa"
        },
        "legend": {
         "tracegroupgap": 0
        },
        "margin": {
         "t": 60
        },
        "template": {
         "data": {
          "bar": [
           {
            "error_x": {
             "color": "#2a3f5f"
            },
            "error_y": {
             "color": "#2a3f5f"
            },
            "marker": {
             "line": {
              "color": "#E5ECF6",
              "width": 0.5
             },
             "pattern": {
              "fillmode": "overlay",
              "size": 10,
              "solidity": 0.2
             }
            },
            "type": "bar"
           }
          ],
          "barpolar": [
           {
            "marker": {
             "line": {
              "color": "#E5ECF6",
              "width": 0.5
             },
             "pattern": {
              "fillmode": "overlay",
              "size": 10,
              "solidity": 0.2
             }
            },
            "type": "barpolar"
           }
          ],
          "carpet": [
           {
            "aaxis": {
             "endlinecolor": "#2a3f5f",
             "gridcolor": "white",
             "linecolor": "white",
             "minorgridcolor": "white",
             "startlinecolor": "#2a3f5f"
            },
            "baxis": {
             "endlinecolor": "#2a3f5f",
             "gridcolor": "white",
             "linecolor": "white",
             "minorgridcolor": "white",
             "startlinecolor": "#2a3f5f"
            },
            "type": "carpet"
           }
          ],
          "choropleth": [
           {
            "colorbar": {
             "outlinewidth": 0,
             "ticks": ""
            },
            "type": "choropleth"
           }
          ],
          "contour": [
           {
            "colorbar": {
             "outlinewidth": 0,
             "ticks": ""
            },
            "colorscale": [
             [
              0,
              "#0d0887"
             ],
             [
              0.1111111111111111,
              "#46039f"
             ],
             [
              0.2222222222222222,
              "#7201a8"
             ],
             [
              0.3333333333333333,
              "#9c179e"
             ],
             [
              0.4444444444444444,
              "#bd3786"
             ],
             [
              0.5555555555555556,
              "#d8576b"
             ],
             [
              0.6666666666666666,
              "#ed7953"
             ],
             [
              0.7777777777777778,
              "#fb9f3a"
             ],
             [
              0.8888888888888888,
              "#fdca26"
             ],
             [
              1,
              "#f0f921"
             ]
            ],
            "type": "contour"
           }
          ],
          "contourcarpet": [
           {
            "colorbar": {
             "outlinewidth": 0,
             "ticks": ""
            },
            "type": "contourcarpet"
           }
          ],
          "heatmap": [
           {
            "colorbar": {
             "outlinewidth": 0,
             "ticks": ""
            },
            "colorscale": [
             [
              0,
              "#0d0887"
             ],
             [
              0.1111111111111111,
              "#46039f"
             ],
             [
              0.2222222222222222,
              "#7201a8"
             ],
             [
              0.3333333333333333,
              "#9c179e"
             ],
             [
              0.4444444444444444,
              "#bd3786"
             ],
             [
              0.5555555555555556,
              "#d8576b"
             ],
             [
              0.6666666666666666,
              "#ed7953"
             ],
             [
              0.7777777777777778,
              "#fb9f3a"
             ],
             [
              0.8888888888888888,
              "#fdca26"
             ],
             [
              1,
              "#f0f921"
             ]
            ],
            "type": "heatmap"
           }
          ],
          "heatmapgl": [
           {
            "colorbar": {
             "outlinewidth": 0,
             "ticks": ""
            },
            "colorscale": [
             [
              0,
              "#0d0887"
             ],
             [
              0.1111111111111111,
              "#46039f"
             ],
             [
              0.2222222222222222,
              "#7201a8"
             ],
             [
              0.3333333333333333,
              "#9c179e"
             ],
             [
              0.4444444444444444,
              "#bd3786"
             ],
             [
              0.5555555555555556,
              "#d8576b"
             ],
             [
              0.6666666666666666,
              "#ed7953"
             ],
             [
              0.7777777777777778,
              "#fb9f3a"
             ],
             [
              0.8888888888888888,
              "#fdca26"
             ],
             [
              1,
              "#f0f921"
             ]
            ],
            "type": "heatmapgl"
           }
          ],
          "histogram": [
           {
            "marker": {
             "pattern": {
              "fillmode": "overlay",
              "size": 10,
              "solidity": 0.2
             }
            },
            "type": "histogram"
           }
          ],
          "histogram2d": [
           {
            "colorbar": {
             "outlinewidth": 0,
             "ticks": ""
            },
            "colorscale": [
             [
              0,
              "#0d0887"
             ],
             [
              0.1111111111111111,
              "#46039f"
             ],
             [
              0.2222222222222222,
              "#7201a8"
             ],
             [
              0.3333333333333333,
              "#9c179e"
             ],
             [
              0.4444444444444444,
              "#bd3786"
             ],
             [
              0.5555555555555556,
              "#d8576b"
             ],
             [
              0.6666666666666666,
              "#ed7953"
             ],
             [
              0.7777777777777778,
              "#fb9f3a"
             ],
             [
              0.8888888888888888,
              "#fdca26"
             ],
             [
              1,
              "#f0f921"
             ]
            ],
            "type": "histogram2d"
           }
          ],
          "histogram2dcontour": [
           {
            "colorbar": {
             "outlinewidth": 0,
             "ticks": ""
            },
            "colorscale": [
             [
              0,
              "#0d0887"
             ],
             [
              0.1111111111111111,
              "#46039f"
             ],
             [
              0.2222222222222222,
              "#7201a8"
             ],
             [
              0.3333333333333333,
              "#9c179e"
             ],
             [
              0.4444444444444444,
              "#bd3786"
             ],
             [
              0.5555555555555556,
              "#d8576b"
             ],
             [
              0.6666666666666666,
              "#ed7953"
             ],
             [
              0.7777777777777778,
              "#fb9f3a"
             ],
             [
              0.8888888888888888,
              "#fdca26"
             ],
             [
              1,
              "#f0f921"
             ]
            ],
            "type": "histogram2dcontour"
           }
          ],
          "mesh3d": [
           {
            "colorbar": {
             "outlinewidth": 0,
             "ticks": ""
            },
            "type": "mesh3d"
           }
          ],
          "parcoords": [
           {
            "line": {
             "colorbar": {
              "outlinewidth": 0,
              "ticks": ""
             }
            },
            "type": "parcoords"
           }
          ],
          "pie": [
           {
            "automargin": true,
            "type": "pie"
           }
          ],
          "scatter": [
           {
            "fillpattern": {
             "fillmode": "overlay",
             "size": 10,
             "solidity": 0.2
            },
            "type": "scatter"
           }
          ],
          "scatter3d": [
           {
            "line": {
             "colorbar": {
              "outlinewidth": 0,
              "ticks": ""
             }
            },
            "marker": {
             "colorbar": {
              "outlinewidth": 0,
              "ticks": ""
             }
            },
            "type": "scatter3d"
           }
          ],
          "scattercarpet": [
           {
            "marker": {
             "colorbar": {
              "outlinewidth": 0,
              "ticks": ""
             }
            },
            "type": "scattercarpet"
           }
          ],
          "scattergeo": [
           {
            "marker": {
             "colorbar": {
              "outlinewidth": 0,
              "ticks": ""
             }
            },
            "type": "scattergeo"
           }
          ],
          "scattergl": [
           {
            "marker": {
             "colorbar": {
              "outlinewidth": 0,
              "ticks": ""
             }
            },
            "type": "scattergl"
           }
          ],
          "scattermapbox": [
           {
            "marker": {
             "colorbar": {
              "outlinewidth": 0,
              "ticks": ""
             }
            },
            "type": "scattermapbox"
           }
          ],
          "scatterpolar": [
           {
            "marker": {
             "colorbar": {
              "outlinewidth": 0,
              "ticks": ""
             }
            },
            "type": "scatterpolar"
           }
          ],
          "scatterpolargl": [
           {
            "marker": {
             "colorbar": {
              "outlinewidth": 0,
              "ticks": ""
             }
            },
            "type": "scatterpolargl"
           }
          ],
          "scatterternary": [
           {
            "marker": {
             "colorbar": {
              "outlinewidth": 0,
              "ticks": ""
             }
            },
            "type": "scatterternary"
           }
          ],
          "surface": [
           {
            "colorbar": {
             "outlinewidth": 0,
             "ticks": ""
            },
            "colorscale": [
             [
              0,
              "#0d0887"
             ],
             [
              0.1111111111111111,
              "#46039f"
             ],
             [
              0.2222222222222222,
              "#7201a8"
             ],
             [
              0.3333333333333333,
              "#9c179e"
             ],
             [
              0.4444444444444444,
              "#bd3786"
             ],
             [
              0.5555555555555556,
              "#d8576b"
             ],
             [
              0.6666666666666666,
              "#ed7953"
             ],
             [
              0.7777777777777778,
              "#fb9f3a"
             ],
             [
              0.8888888888888888,
              "#fdca26"
             ],
             [
              1,
              "#f0f921"
             ]
            ],
            "type": "surface"
           }
          ],
          "table": [
           {
            "cells": {
             "fill": {
              "color": "#EBF0F8"
             },
             "line": {
              "color": "white"
             }
            },
            "header": {
             "fill": {
              "color": "#C8D4E3"
             },
             "line": {
              "color": "white"
             }
            },
            "type": "table"
           }
          ]
         },
         "layout": {
          "annotationdefaults": {
           "arrowcolor": "#2a3f5f",
           "arrowhead": 0,
           "arrowwidth": 1
          },
          "autotypenumbers": "strict",
          "coloraxis": {
           "colorbar": {
            "outlinewidth": 0,
            "ticks": ""
           }
          },
          "colorscale": {
           "diverging": [
            [
             0,
             "#8e0152"
            ],
            [
             0.1,
             "#c51b7d"
            ],
            [
             0.2,
             "#de77ae"
            ],
            [
             0.3,
             "#f1b6da"
            ],
            [
             0.4,
             "#fde0ef"
            ],
            [
             0.5,
             "#f7f7f7"
            ],
            [
             0.6,
             "#e6f5d0"
            ],
            [
             0.7,
             "#b8e186"
            ],
            [
             0.8,
             "#7fbc41"
            ],
            [
             0.9,
             "#4d9221"
            ],
            [
             1,
             "#276419"
            ]
           ],
           "sequential": [
            [
             0,
             "#0d0887"
            ],
            [
             0.1111111111111111,
             "#46039f"
            ],
            [
             0.2222222222222222,
             "#7201a8"
            ],
            [
             0.3333333333333333,
             "#9c179e"
            ],
            [
             0.4444444444444444,
             "#bd3786"
            ],
            [
             0.5555555555555556,
             "#d8576b"
            ],
            [
             0.6666666666666666,
             "#ed7953"
            ],
            [
             0.7777777777777778,
             "#fb9f3a"
            ],
            [
             0.8888888888888888,
             "#fdca26"
            ],
            [
             1,
             "#f0f921"
            ]
           ],
           "sequentialminus": [
            [
             0,
             "#0d0887"
            ],
            [
             0.1111111111111111,
             "#46039f"
            ],
            [
             0.2222222222222222,
             "#7201a8"
            ],
            [
             0.3333333333333333,
             "#9c179e"
            ],
            [
             0.4444444444444444,
             "#bd3786"
            ],
            [
             0.5555555555555556,
             "#d8576b"
            ],
            [
             0.6666666666666666,
             "#ed7953"
            ],
            [
             0.7777777777777778,
             "#fb9f3a"
            ],
            [
             0.8888888888888888,
             "#fdca26"
            ],
            [
             1,
             "#f0f921"
            ]
           ]
          },
          "colorway": [
           "#636efa",
           "#EF553B",
           "#00cc96",
           "#ab63fa",
           "#FFA15A",
           "#19d3f3",
           "#FF6692",
           "#B6E880",
           "#FF97FF",
           "#FECB52"
          ],
          "font": {
           "color": "#2a3f5f"
          },
          "geo": {
           "bgcolor": "white",
           "lakecolor": "white",
           "landcolor": "#E5ECF6",
           "showlakes": true,
           "showland": true,
           "subunitcolor": "white"
          },
          "hoverlabel": {
           "align": "left"
          },
          "hovermode": "closest",
          "mapbox": {
           "style": "light"
          },
          "paper_bgcolor": "white",
          "plot_bgcolor": "#E5ECF6",
          "polar": {
           "angularaxis": {
            "gridcolor": "white",
            "linecolor": "white",
            "ticks": ""
           },
           "bgcolor": "#E5ECF6",
           "radialaxis": {
            "gridcolor": "white",
            "linecolor": "white",
            "ticks": ""
           }
          },
          "scene": {
           "xaxis": {
            "backgroundcolor": "#E5ECF6",
            "gridcolor": "white",
            "gridwidth": 2,
            "linecolor": "white",
            "showbackground": true,
            "ticks": "",
            "zerolinecolor": "white"
           },
           "yaxis": {
            "backgroundcolor": "#E5ECF6",
            "gridcolor": "white",
            "gridwidth": 2,
            "linecolor": "white",
            "showbackground": true,
            "ticks": "",
            "zerolinecolor": "white"
           },
           "zaxis": {
            "backgroundcolor": "#E5ECF6",
            "gridcolor": "white",
            "gridwidth": 2,
            "linecolor": "white",
            "showbackground": true,
            "ticks": "",
            "zerolinecolor": "white"
           }
          },
          "shapedefaults": {
           "line": {
            "color": "#2a3f5f"
           }
          },
          "ternary": {
           "aaxis": {
            "gridcolor": "white",
            "linecolor": "white",
            "ticks": ""
           },
           "baxis": {
            "gridcolor": "white",
            "linecolor": "white",
            "ticks": ""
           },
           "bgcolor": "#E5ECF6",
           "caxis": {
            "gridcolor": "white",
            "linecolor": "white",
            "ticks": ""
           }
          },
          "title": {
           "x": 0.05
          },
          "xaxis": {
           "automargin": true,
           "gridcolor": "white",
           "linecolor": "white",
           "ticks": "",
           "title": {
            "standoff": 15
           },
           "zerolinecolor": "white",
           "zerolinewidth": 2
          },
          "yaxis": {
           "automargin": true,
           "gridcolor": "white",
           "linecolor": "white",
           "ticks": "",
           "title": {
            "standoff": 15
           },
           "zerolinecolor": "white",
           "zerolinewidth": 2
          }
         }
        }
       }
      },
      "text/html": [
       "<div>                            <div id=\"b30ff0ef-beb5-4b2c-a704-42a8256cd59b\" class=\"plotly-graph-div\" style=\"height:525px; width:100%;\"></div>            <script type=\"text/javascript\">                require([\"plotly\"], function(Plotly) {                    window.PLOTLYENV=window.PLOTLYENV || {};                                    if (document.getElementById(\"b30ff0ef-beb5-4b2c-a704-42a8256cd59b\")) {                    Plotly.newPlot(                        \"b30ff0ef-beb5-4b2c-a704-42a8256cd59b\",                        [{\"coloraxis\":\"coloraxis\",\"geo\":\"geo\",\"hovertemplate\":\"state_code=%{location}<br>Quantity=%{z}<extra></extra>\",\"locationmode\":\"USA-states\",\"locations\":[\"AK\",\"AL\",\"AR\",\"AZ\",\"CA\",\"CO\",\"CT\",\"DC\",\"DE\",\"FL\",\"GA\",\"HI\",\"IA\",\"ID\",\"IL\",\"IN\",\"KS\",\"KY\",\"LA\",\"MA\",\"MD\",\"ME\",\"MI\",\"MN\",\"MO\",\"MS\",\"MT\",\"NC\",\"ND\",\"NE\",\"NH\",\"NJ\",\"NM\",\"NV\",\"NY\",\"OH\",\"OK\",\"OR\",\"PA\",\"RI\",\"SC\",\"SD\",\"TN\",\"TX\",\"UT\",\"VA\",\"VT\",\"WA\",\"WI\",\"WV\",\"WY\"],\"name\":\"\",\"z\":[53016,591453,344767,1320077,6537109,1468117,585263,215996,218737,4192084,1625626,34652,409539,346875,2100043,1020518,390691,704490,634364,1479822,1351830,229708,1630317,733383,848459,298822,188989,1631207,154884,267190,291941,2054104,327956,637210,4573970,1835251,512706,675083,2329062,186000,780347,118912,994142,4001381,661163,1697867,104120,1493471,824574,278705,122492],\"type\":\"choropleth\"}],                        {\"template\":{\"data\":{\"histogram2dcontour\":[{\"type\":\"histogram2dcontour\",\"colorbar\":{\"outlinewidth\":0,\"ticks\":\"\"},\"colorscale\":[[0.0,\"#0d0887\"],[0.1111111111111111,\"#46039f\"],[0.2222222222222222,\"#7201a8\"],[0.3333333333333333,\"#9c179e\"],[0.4444444444444444,\"#bd3786\"],[0.5555555555555556,\"#d8576b\"],[0.6666666666666666,\"#ed7953\"],[0.7777777777777778,\"#fb9f3a\"],[0.8888888888888888,\"#fdca26\"],[1.0,\"#f0f921\"]]}],\"choropleth\":[{\"type\":\"choropleth\",\"colorbar\":{\"outlinewidth\":0,\"ticks\":\"\"}}],\"histogram2d\":[{\"type\":\"histogram2d\",\"colorbar\":{\"outlinewidth\":0,\"ticks\":\"\"},\"colorscale\":[[0.0,\"#0d0887\"],[0.1111111111111111,\"#46039f\"],[0.2222222222222222,\"#7201a8\"],[0.3333333333333333,\"#9c179e\"],[0.4444444444444444,\"#bd3786\"],[0.5555555555555556,\"#d8576b\"],[0.6666666666666666,\"#ed7953\"],[0.7777777777777778,\"#fb9f3a\"],[0.8888888888888888,\"#fdca26\"],[1.0,\"#f0f921\"]]}],\"heatmap\":[{\"type\":\"heatmap\",\"colorbar\":{\"outlinewidth\":0,\"ticks\":\"\"},\"colorscale\":[[0.0,\"#0d0887\"],[0.1111111111111111,\"#46039f\"],[0.2222222222222222,\"#7201a8\"],[0.3333333333333333,\"#9c179e\"],[0.4444444444444444,\"#bd3786\"],[0.5555555555555556,\"#d8576b\"],[0.6666666666666666,\"#ed7953\"],[0.7777777777777778,\"#fb9f3a\"],[0.8888888888888888,\"#fdca26\"],[1.0,\"#f0f921\"]]}],\"heatmapgl\":[{\"type\":\"heatmapgl\",\"colorbar\":{\"outlinewidth\":0,\"ticks\":\"\"},\"colorscale\":[[0.0,\"#0d0887\"],[0.1111111111111111,\"#46039f\"],[0.2222222222222222,\"#7201a8\"],[0.3333333333333333,\"#9c179e\"],[0.4444444444444444,\"#bd3786\"],[0.5555555555555556,\"#d8576b\"],[0.6666666666666666,\"#ed7953\"],[0.7777777777777778,\"#fb9f3a\"],[0.8888888888888888,\"#fdca26\"],[1.0,\"#f0f921\"]]}],\"contourcarpet\":[{\"type\":\"contourcarpet\",\"colorbar\":{\"outlinewidth\":0,\"ticks\":\"\"}}],\"contour\":[{\"type\":\"contour\",\"colorbar\":{\"outlinewidth\":0,\"ticks\":\"\"},\"colorscale\":[[0.0,\"#0d0887\"],[0.1111111111111111,\"#46039f\"],[0.2222222222222222,\"#7201a8\"],[0.3333333333333333,\"#9c179e\"],[0.4444444444444444,\"#bd3786\"],[0.5555555555555556,\"#d8576b\"],[0.6666666666666666,\"#ed7953\"],[0.7777777777777778,\"#fb9f3a\"],[0.8888888888888888,\"#fdca26\"],[1.0,\"#f0f921\"]]}],\"surface\":[{\"type\":\"surface\",\"colorbar\":{\"outlinewidth\":0,\"ticks\":\"\"},\"colorscale\":[[0.0,\"#0d0887\"],[0.1111111111111111,\"#46039f\"],[0.2222222222222222,\"#7201a8\"],[0.3333333333333333,\"#9c179e\"],[0.4444444444444444,\"#bd3786\"],[0.5555555555555556,\"#d8576b\"],[0.6666666666666666,\"#ed7953\"],[0.7777777777777778,\"#fb9f3a\"],[0.8888888888888888,\"#fdca26\"],[1.0,\"#f0f921\"]]}],\"mesh3d\":[{\"type\":\"mesh3d\",\"colorbar\":{\"outlinewidth\":0,\"ticks\":\"\"}}],\"scatter\":[{\"fillpattern\":{\"fillmode\":\"overlay\",\"size\":10,\"solidity\":0.2},\"type\":\"scatter\"}],\"parcoords\":[{\"type\":\"parcoords\",\"line\":{\"colorbar\":{\"outlinewidth\":0,\"ticks\":\"\"}}}],\"scatterpolargl\":[{\"type\":\"scatterpolargl\",\"marker\":{\"colorbar\":{\"outlinewidth\":0,\"ticks\":\"\"}}}],\"bar\":[{\"error_x\":{\"color\":\"#2a3f5f\"},\"error_y\":{\"color\":\"#2a3f5f\"},\"marker\":{\"line\":{\"color\":\"#E5ECF6\",\"width\":0.5},\"pattern\":{\"fillmode\":\"overlay\",\"size\":10,\"solidity\":0.2}},\"type\":\"bar\"}],\"scattergeo\":[{\"type\":\"scattergeo\",\"marker\":{\"colorbar\":{\"outlinewidth\":0,\"ticks\":\"\"}}}],\"scatterpolar\":[{\"type\":\"scatterpolar\",\"marker\":{\"colorbar\":{\"outlinewidth\":0,\"ticks\":\"\"}}}],\"histogram\":[{\"marker\":{\"pattern\":{\"fillmode\":\"overlay\",\"size\":10,\"solidity\":0.2}},\"type\":\"histogram\"}],\"scattergl\":[{\"type\":\"scattergl\",\"marker\":{\"colorbar\":{\"outlinewidth\":0,\"ticks\":\"\"}}}],\"scatter3d\":[{\"type\":\"scatter3d\",\"line\":{\"colorbar\":{\"outlinewidth\":0,\"ticks\":\"\"}},\"marker\":{\"colorbar\":{\"outlinewidth\":0,\"ticks\":\"\"}}}],\"scattermapbox\":[{\"type\":\"scattermapbox\",\"marker\":{\"colorbar\":{\"outlinewidth\":0,\"ticks\":\"\"}}}],\"scatterternary\":[{\"type\":\"scatterternary\",\"marker\":{\"colorbar\":{\"outlinewidth\":0,\"ticks\":\"\"}}}],\"scattercarpet\":[{\"type\":\"scattercarpet\",\"marker\":{\"colorbar\":{\"outlinewidth\":0,\"ticks\":\"\"}}}],\"carpet\":[{\"aaxis\":{\"endlinecolor\":\"#2a3f5f\",\"gridcolor\":\"white\",\"linecolor\":\"white\",\"minorgridcolor\":\"white\",\"startlinecolor\":\"#2a3f5f\"},\"baxis\":{\"endlinecolor\":\"#2a3f5f\",\"gridcolor\":\"white\",\"linecolor\":\"white\",\"minorgridcolor\":\"white\",\"startlinecolor\":\"#2a3f5f\"},\"type\":\"carpet\"}],\"table\":[{\"cells\":{\"fill\":{\"color\":\"#EBF0F8\"},\"line\":{\"color\":\"white\"}},\"header\":{\"fill\":{\"color\":\"#C8D4E3\"},\"line\":{\"color\":\"white\"}},\"type\":\"table\"}],\"barpolar\":[{\"marker\":{\"line\":{\"color\":\"#E5ECF6\",\"width\":0.5},\"pattern\":{\"fillmode\":\"overlay\",\"size\":10,\"solidity\":0.2}},\"type\":\"barpolar\"}],\"pie\":[{\"automargin\":true,\"type\":\"pie\"}]},\"layout\":{\"autotypenumbers\":\"strict\",\"colorway\":[\"#636efa\",\"#EF553B\",\"#00cc96\",\"#ab63fa\",\"#FFA15A\",\"#19d3f3\",\"#FF6692\",\"#B6E880\",\"#FF97FF\",\"#FECB52\"],\"font\":{\"color\":\"#2a3f5f\"},\"hovermode\":\"closest\",\"hoverlabel\":{\"align\":\"left\"},\"paper_bgcolor\":\"white\",\"plot_bgcolor\":\"#E5ECF6\",\"polar\":{\"bgcolor\":\"#E5ECF6\",\"angularaxis\":{\"gridcolor\":\"white\",\"linecolor\":\"white\",\"ticks\":\"\"},\"radialaxis\":{\"gridcolor\":\"white\",\"linecolor\":\"white\",\"ticks\":\"\"}},\"ternary\":{\"bgcolor\":\"#E5ECF6\",\"aaxis\":{\"gridcolor\":\"white\",\"linecolor\":\"white\",\"ticks\":\"\"},\"baxis\":{\"gridcolor\":\"white\",\"linecolor\":\"white\",\"ticks\":\"\"},\"caxis\":{\"gridcolor\":\"white\",\"linecolor\":\"white\",\"ticks\":\"\"}},\"coloraxis\":{\"colorbar\":{\"outlinewidth\":0,\"ticks\":\"\"}},\"colorscale\":{\"sequential\":[[0.0,\"#0d0887\"],[0.1111111111111111,\"#46039f\"],[0.2222222222222222,\"#7201a8\"],[0.3333333333333333,\"#9c179e\"],[0.4444444444444444,\"#bd3786\"],[0.5555555555555556,\"#d8576b\"],[0.6666666666666666,\"#ed7953\"],[0.7777777777777778,\"#fb9f3a\"],[0.8888888888888888,\"#fdca26\"],[1.0,\"#f0f921\"]],\"sequentialminus\":[[0.0,\"#0d0887\"],[0.1111111111111111,\"#46039f\"],[0.2222222222222222,\"#7201a8\"],[0.3333333333333333,\"#9c179e\"],[0.4444444444444444,\"#bd3786\"],[0.5555555555555556,\"#d8576b\"],[0.6666666666666666,\"#ed7953\"],[0.7777777777777778,\"#fb9f3a\"],[0.8888888888888888,\"#fdca26\"],[1.0,\"#f0f921\"]],\"diverging\":[[0,\"#8e0152\"],[0.1,\"#c51b7d\"],[0.2,\"#de77ae\"],[0.3,\"#f1b6da\"],[0.4,\"#fde0ef\"],[0.5,\"#f7f7f7\"],[0.6,\"#e6f5d0\"],[0.7,\"#b8e186\"],[0.8,\"#7fbc41\"],[0.9,\"#4d9221\"],[1,\"#276419\"]]},\"xaxis\":{\"gridcolor\":\"white\",\"linecolor\":\"white\",\"ticks\":\"\",\"title\":{\"standoff\":15},\"zerolinecolor\":\"white\",\"automargin\":true,\"zerolinewidth\":2},\"yaxis\":{\"gridcolor\":\"white\",\"linecolor\":\"white\",\"ticks\":\"\",\"title\":{\"standoff\":15},\"zerolinecolor\":\"white\",\"automargin\":true,\"zerolinewidth\":2},\"scene\":{\"xaxis\":{\"backgroundcolor\":\"#E5ECF6\",\"gridcolor\":\"white\",\"linecolor\":\"white\",\"showbackground\":true,\"ticks\":\"\",\"zerolinecolor\":\"white\",\"gridwidth\":2},\"yaxis\":{\"backgroundcolor\":\"#E5ECF6\",\"gridcolor\":\"white\",\"linecolor\":\"white\",\"showbackground\":true,\"ticks\":\"\",\"zerolinecolor\":\"white\",\"gridwidth\":2},\"zaxis\":{\"backgroundcolor\":\"#E5ECF6\",\"gridcolor\":\"white\",\"linecolor\":\"white\",\"showbackground\":true,\"ticks\":\"\",\"zerolinecolor\":\"white\",\"gridwidth\":2}},\"shapedefaults\":{\"line\":{\"color\":\"#2a3f5f\"}},\"annotationdefaults\":{\"arrowcolor\":\"#2a3f5f\",\"arrowhead\":0,\"arrowwidth\":1},\"geo\":{\"bgcolor\":\"white\",\"landcolor\":\"#E5ECF6\",\"subunitcolor\":\"white\",\"showland\":true,\"showlakes\":true,\"lakecolor\":\"white\"},\"title\":{\"x\":0.05},\"mapbox\":{\"style\":\"light\"}}},\"geo\":{\"domain\":{\"x\":[0.0,1.0],\"y\":[0.0,1.0]},\"center\":{},\"scope\":\"usa\"},\"coloraxis\":{\"colorbar\":{\"title\":{\"text\":\"Quantity\"}},\"colorscale\":[[0.0,\"rgb(241, 236, 236)\"],[0.09090909090909091,\"rgb(230, 209, 203)\"],[0.18181818181818182,\"rgb(221, 182, 170)\"],[0.2727272727272727,\"rgb(213, 156, 137)\"],[0.36363636363636365,\"rgb(205, 129, 103)\"],[0.45454545454545453,\"rgb(196, 102, 73)\"],[0.5454545454545454,\"rgb(186, 74, 47)\"],[0.6363636363636364,\"rgb(172, 44, 36)\"],[0.7272727272727273,\"rgb(149, 19, 39)\"],[0.8181818181818182,\"rgb(120, 14, 40)\"],[0.9090909090909091,\"rgb(89, 13, 31)\"],[1.0,\"rgb(60, 9, 17)\"]]},\"legend\":{\"tracegroupgap\":0},\"margin\":{\"t\":60}},                        {\"responsive\": true}                    ).then(function(){\n",
       "                            \n",
       "var gd = document.getElementById('b30ff0ef-beb5-4b2c-a704-42a8256cd59b');\n",
       "var x = new MutationObserver(function (mutations, observer) {{\n",
       "        var display = window.getComputedStyle(gd).display;\n",
       "        if (!display || display === 'none') {{\n",
       "            console.log([gd, 'removed!']);\n",
       "            Plotly.purge(gd);\n",
       "            observer.disconnect();\n",
       "        }}\n",
       "}});\n",
       "\n",
       "// Listen for the removal of the full notebook cells\n",
       "var notebookContainer = gd.closest('#notebook-container');\n",
       "if (notebookContainer) {{\n",
       "    x.observe(notebookContainer, {childList: true});\n",
       "}}\n",
       "\n",
       "// Listen for the clearing of the current output cell\n",
       "var outputEl = gd.closest('.output');\n",
       "if (outputEl) {{\n",
       "    x.observe(outputEl, {childList: true});\n",
       "}}\n",
       "\n",
       "                        })                };                });            </script>        </div>"
      ]
     },
     "metadata": {},
     "output_type": "display_data"
    }
   ],
   "source": [
    "state_heatmap(glob)"
   ]
  },
  {
   "cell_type": "markdown",
   "id": "2b8274f6",
   "metadata": {},
   "source": [
    "#### Product Category"
   ]
  },
  {
   "cell_type": "code",
   "execution_count": null,
   "id": "8bac13db",
   "metadata": {},
   "outputs": [],
   "source": [
    "# category from A-X: prdct_by_cat_dict['i'] for i from A-X\n",
    "prdct_by_cat_dict['A']=pd.DataFrame(data = prdct_by_cat_dict['A']).reset_index()\n",
    "get_state(prdct_by_cat_dict['A'])"
   ]
  },
  {
   "cell_type": "code",
   "execution_count": null,
   "id": "4943d453",
   "metadata": {},
   "outputs": [],
   "source": [
    "state_heatmap(prdct_by_cat_dict['A'])"
   ]
  },
  {
   "cell_type": "markdown",
   "id": "31ee3e1b",
   "metadata": {},
   "source": [
    "### Zip-Heatmap"
   ]
  },
  {
   "cell_type": "code",
   "execution_count": 97,
   "id": "f151a420",
   "metadata": {},
   "outputs": [
    {
     "name": "stdout",
     "output_type": "stream",
     "text": [
      "Requirement already satisfied: folium in /opt/anaconda3/lib/python3.9/site-packages (0.13.0)\n",
      "Requirement already satisfied: branca>=0.3.0 in /opt/anaconda3/lib/python3.9/site-packages (from folium) (0.6.0)\n",
      "Requirement already satisfied: jinja2>=2.9 in /opt/anaconda3/lib/python3.9/site-packages (from folium) (2.11.3)\n",
      "Requirement already satisfied: requests in /opt/anaconda3/lib/python3.9/site-packages (from folium) (2.26.0)\n",
      "Requirement already satisfied: numpy in /opt/anaconda3/lib/python3.9/site-packages (from folium) (1.20.3)\n",
      "Requirement already satisfied: MarkupSafe>=0.23 in /opt/anaconda3/lib/python3.9/site-packages (from jinja2>=2.9->folium) (1.1.1)\n",
      "Requirement already satisfied: certifi>=2017.4.17 in /opt/anaconda3/lib/python3.9/site-packages (from requests->folium) (2021.10.8)\n",
      "Requirement already satisfied: urllib3<1.27,>=1.21.1 in /opt/anaconda3/lib/python3.9/site-packages (from requests->folium) (1.26.7)\n",
      "Requirement already satisfied: idna<4,>=2.5 in /opt/anaconda3/lib/python3.9/site-packages (from requests->folium) (3.2)\n",
      "Requirement already satisfied: charset-normalizer~=2.0.0 in /opt/anaconda3/lib/python3.9/site-packages (from requests->folium) (2.0.4)\n"
     ]
    }
   ],
   "source": [
    "!pip install U folium\n",
    "import folium\n",
    "from folium.plugins import MarkerCluster\n",
    "from folium.plugins import HeatMap"
   ]
  },
  {
   "cell_type": "code",
   "execution_count": 98,
   "id": "13e8344c",
   "metadata": {},
   "outputs": [],
   "source": [
    "def zip_heatmap(df):\n",
    "    # min max grid\n",
    "    min_lat = df['Lat'].min()\n",
    "    max_lat = df['Lat'].max()\n",
    "    min_long = df['Lon'].min()\n",
    "    max_long = df['Lon'].max()\n",
    "    \n",
    "    # enforce grid\n",
    "    df = df[df.Lat >= min_lat]\n",
    "    df = df[df.Lat <= max_lat]\n",
    "    df = df[df.Lon >= min_long]\n",
    "    df = df[df.Lon <= max_long]\n",
    "\n",
    "    # define centre of map\n",
    "    Heat_COORDINATES = (df['Lat'].mean(), df['Lon'].mean())\n",
    "\n",
    "    # subset to match subset of locations\n",
    "    MAX_RECORDS = 100\n",
    "\n",
    "    # create empty map zoomed\n",
    "    map_zip = folium.Map(location=Heat_COORDINATES, zoom_start=5)\n",
    "\n",
    "    # define heat map\n",
    "    HeatMap(data=df[['Lat', 'Lon', 'Quantity']].groupby(['Lat', 'Lon']).sum().reset_index().values.tolist(), radius=12, max_zoom=5).add_to(map_zip)\n",
    "\n",
    "    display(map_zip)"
   ]
  },
  {
   "cell_type": "markdown",
   "id": "47e06201",
   "metadata": {},
   "source": [
    "#### Globally"
   ]
  },
  {
   "cell_type": "code",
   "execution_count": 99,
   "id": "6f109f8f",
   "metadata": {},
   "outputs": [
    {
     "data": {
      "text/html": [
       "<div style=\"width:100%;\"><div style=\"position:relative;width:100%;height:0;padding-bottom:60%;\"><span style=\"color:#565656\">Make this Notebook Trusted to load map: File -> Trust Notebook</span><iframe srcdoc=\"&lt;!DOCTYPE html&gt;\n",
       "&lt;html&gt;\n",
       "&lt;head&gt;\n",
       "    \n",
       "    &lt;meta http-equiv=&quot;content-type&quot; content=&quot;text/html; charset=UTF-8&quot; /&gt;\n",
       "    \n",
       "        &lt;script&gt;\n",
       "            L_NO_TOUCH = false;\n",
       "            L_DISABLE_3D = false;\n",
       "        &lt;/script&gt;\n",
       "    \n",
       "    &lt;style&gt;html, body {width: 100%;height: 100%;margin: 0;padding: 0;}&lt;/style&gt;\n",
       "    &lt;style&gt;#map {position:absolute;top:0;bottom:0;right:0;left:0;}&lt;/style&gt;\n",
       "    &lt;script src=&quot;https://cdn.jsdelivr.net/npm/leaflet@1.6.0/dist/leaflet.js&quot;&gt;&lt;/script&gt;\n",
       "    &lt;script src=&quot;https://code.jquery.com/jquery-1.12.4.min.js&quot;&gt;&lt;/script&gt;\n",
       "    &lt;script src=&quot;https://maxcdn.bootstrapcdn.com/bootstrap/3.2.0/js/bootstrap.min.js&quot;&gt;&lt;/script&gt;\n",
       "    &lt;script src=&quot;https://cdnjs.cloudflare.com/ajax/libs/Leaflet.awesome-markers/2.0.2/leaflet.awesome-markers.js&quot;&gt;&lt;/script&gt;\n",
       "    &lt;link rel=&quot;stylesheet&quot; href=&quot;https://cdn.jsdelivr.net/npm/leaflet@1.6.0/dist/leaflet.css&quot;/&gt;\n",
       "    &lt;link rel=&quot;stylesheet&quot; href=&quot;https://maxcdn.bootstrapcdn.com/bootstrap/3.2.0/css/bootstrap.min.css&quot;/&gt;\n",
       "    &lt;link rel=&quot;stylesheet&quot; href=&quot;https://maxcdn.bootstrapcdn.com/bootstrap/3.2.0/css/bootstrap-theme.min.css&quot;/&gt;\n",
       "    &lt;link rel=&quot;stylesheet&quot; href=&quot;https://maxcdn.bootstrapcdn.com/font-awesome/4.6.3/css/font-awesome.min.css&quot;/&gt;\n",
       "    &lt;link rel=&quot;stylesheet&quot; href=&quot;https://cdnjs.cloudflare.com/ajax/libs/Leaflet.awesome-markers/2.0.2/leaflet.awesome-markers.css&quot;/&gt;\n",
       "    &lt;link rel=&quot;stylesheet&quot; href=&quot;https://cdn.jsdelivr.net/gh/python-visualization/folium/folium/templates/leaflet.awesome.rotate.min.css&quot;/&gt;\n",
       "    \n",
       "            &lt;meta name=&quot;viewport&quot; content=&quot;width=device-width,\n",
       "                initial-scale=1.0, maximum-scale=1.0, user-scalable=no&quot; /&gt;\n",
       "            &lt;style&gt;\n",
       "                #map_d9792943285bdc5983a8559ae1390493 {\n",
       "                    position: relative;\n",
       "                    width: 100.0%;\n",
       "                    height: 100.0%;\n",
       "                    left: 0.0%;\n",
       "                    top: 0.0%;\n",
       "                }\n",
       "            &lt;/style&gt;\n",
       "        \n",
       "    &lt;script src=&quot;https://cdn.jsdelivr.net/gh/python-visualization/folium@main/folium/templates/leaflet_heat.min.js&quot;&gt;&lt;/script&gt;\n",
       "&lt;/head&gt;\n",
       "&lt;body&gt;\n",
       "    \n",
       "    \n",
       "            &lt;div class=&quot;folium-map&quot; id=&quot;map_d9792943285bdc5983a8559ae1390493&quot; &gt;&lt;/div&gt;\n",
       "        \n",
       "&lt;/body&gt;\n",
       "&lt;script&gt;\n",
       "    \n",
       "    \n",
       "            var map_d9792943285bdc5983a8559ae1390493 = L.map(\n",
       "                &quot;map_d9792943285bdc5983a8559ae1390493&quot;,\n",
       "                {\n",
       "                    center: [38.730172256591636, -90.92921131169851],\n",
       "                    crs: L.CRS.EPSG3857,\n",
       "                    zoom: 5,\n",
       "                    zoomControl: true,\n",
       "                    preferCanvas: false,\n",
       "                }\n",
       "            );\n",
       "\n",
       "            \n",
       "\n",
       "        \n",
       "    \n",
       "            var tile_layer_4649ab68bf2c61ed953146d9bbce7050 = L.tileLayer(\n",
       "                &quot;https://{s}.tile.openstreetmap.org/{z}/{x}/{y}.png&quot;,\n",
       "                {&quot;attribution&quot;: &quot;Data by \\u0026copy; \\u003ca href=\\&quot;http://openstreetmap.org\\&quot;\\u003eOpenStreetMap\\u003c/a\\u003e, under \\u003ca href=\\&quot;http://www.openstreetmap.org/copyright\\&quot;\\u003eODbL\\u003c/a\\u003e.&quot;, &quot;detectRetina&quot;: false, &quot;maxNativeZoom&quot;: 18, &quot;maxZoom&quot;: 18, &quot;minZoom&quot;: 0, &quot;noWrap&quot;: false, &quot;opacity&quot;: 1, &quot;subdomains&quot;: &quot;abc&quot;, &quot;tms&quot;: false}\n",
       "            ).addTo(map_d9792943285bdc5983a8559ae1390493);\n",
       "        \n",
       "    \n",
       "            var heat_map_13ca726261a7945f90b6e28da968693f = L.heatLayer(\n",
       "                [[20.6667741, -157.292398, 73437.0], [21.31627119, -157.8587712, 34652.0], [25.7714, -80.20635, 1692.0], [25.78771157, -80.24139668, 464854.0], [25.95777195, -80.25858971, 334839.0], [26.14805954, -80.17388352, 164105.0], [26.1934576, -97.9558109, 95311.0], [26.22950586, -81.7687168, 89152.0], [26.59437338, -80.10587723, 322443.0], [26.74966989, -81.93435878, 190993.0], [27.25510366, -80.33700476, 89192.0], [27.32596833, -82.48886278, 168805.0], [27.79343056, -97.40561199, 48755.0], [27.7956176, -97.69328798, 26396.0], [27.89427293, -82.73852559, 159260.0], [27.91676799, -81.75444563, 137468.0], [27.98146252, -82.47044567, 150938.0], [28.0939347, -82.29407331, 163125.0], [28.15899052, -80.64259589, 140804.0], [28.24635759, -82.63796978, 140878.0], [28.47366387, -81.51423972, 183882.0], [28.52980184, -81.37025332, 213375.0], [28.6196527, -99.0453514, 62570.0], [28.67999853, -81.34017569, 207422.0], [28.95893886, -96.96806398, 19640.0], [29.07456686, -82.21431716, 68917.0], [29.16311083, -100.0306825, 15336.0], [29.28033024, -81.25835547, 108840.0], [29.37374107, -98.12762857, 71569.0], [29.45314256, -98.4975328, 246670.0], [29.59683964, -95.17402526, 228337.0], [29.61443468, -82.36344412, 64265.0], [29.6544694, -90.78519515, 35416.0], [29.65952597, -95.6856005, 211122.0], [29.77049836, -95.41519724, 357727.0], [29.79967922, -95.45775584, 1054.0], [29.92089344, -96.84787131, 6376.0], [29.95773556, -90.09428301, 79285.0], [29.96314922, -90.18343295, 92017.0], [30.08017757, -94.03078037, 37339.0], [30.08061268, -94.14762066, 16923.0], [30.10919119, -95.40537507, 221620.0], [30.13761429, -81.80804379, 119614.0], [30.22190203, -92.06806526, 68348.0], [30.25780345, -97.8273734, 190471.0], [30.28908022, -93.21021007, 35455.0], [30.30075213, -81.63305956, 177833.0], [30.30363295, -97.74164957, 220459.0], [30.38547134, -85.67905612, 94562.0], [30.41755655, -84.2583939, 66946.0], [30.43964144, -91.14024128, 59250.0], [30.45880962, -88.97295534, 63476.0], [30.46285326, -86.94394577, 167880.0], [30.469215, -91.1198175, 65874.0], [30.46924441, -90.16741425, 60527.0], [30.61895296, -96.32914321, 48775.0], [30.68758851, -88.08793195, 32056.0], [30.76496287, -87.89512996, 45998.0], [30.92886067, -83.28538483, 28842.0], [31.11096525, -97.56571631, 88170.0], [31.17464138, -105.3606966, 6529.0], [31.22755833, -84.63246806, 8328.0], [31.29840563, -82.00096162, 38034.0], [31.30050563, -85.52091408, 30203.0], [31.30279009, -92.192325, 21746.0], [31.32761232, -89.30569804, 32754.0], [31.34079808, -90.53474679, 9487.0], [31.34653824, -86.95451176, 7574.0], [31.38995588, -94.45899538, 24816.0], [31.3977337, -100.5183272, 18395.0], [31.43000114, -99.18056932, 9372.0], [31.47418031, -83.95340051, 30742.0], [31.47555856, -95.65959099, 7916.0], [31.50592664, -92.90189813, 26563.0], [31.54466783, -97.13625581, 23041.0], [31.71480203, -97.07859239, 16043.0], [31.75364359, -110.5073962, 57192.0], [31.7656623, -106.4485636, 131994.0], [31.91606047, -102.2252385, 102185.0], [31.93639896, -81.49039479, 54301.0], [32.0700884, -81.1176529, 42848.0], [32.17601956, -86.12245978, 29689.0], [32.22989195, -90.33702222, 29037.0], [32.23942059, -88.20716176, 629.0], [32.27017437, -110.9790432, 147899.0], [32.31139378, -90.18122044, 20107.0], [32.31429944, -95.37310732, 43330.0], [32.36677635, -87.33822568, 6413.0], [32.37579631, -86.29243219, 23993.0], [32.39680253, -88.84609675, 11965.0], [32.44478868, -99.73640189, 21576.0], [32.44781421, -90.03795526, 24185.0], [32.44946269, -80.81498109, 52086.0], [32.47927346, -84.96985213, 28425.0], [32.48343918, -82.06773196, 23191.0], [32.48680761, -94.73801995, 35784.0], [32.49215934, -93.75517115, 37279.0], [32.50336772, -92.12872478, 35461.0], [32.51976643, -93.51416713, 17143.0], [32.56099242, -84.86697576, 10837.0], [32.5845375, -98.37456125, 14791.0], [32.60137169, -85.35060091, 42871.0], [32.62425137, -83.43419612, 59951.0], [32.63336495, -96.65381683, 111450.0], [32.68512647, -100.2627137, 8970.0], [32.72455083, -117.026126, 92944.0], [32.73050241, -97.21853609, 191434.0], [32.75632185, -97.27152935, 149254.0], [32.79578846, -96.85172308, 261.0], [32.80332038, -117.1555752, 254052.0], [32.82099012, -96.83829993, 184206.0], [32.8358381, -83.64196667, 17992.0], [32.87289, -111.74493, 79072.0], [32.88681303, -80.02509611, 175104.0], [32.89781244, -96.87761404, 402989.0], [33.03817308, -117.1549308, 226194.0], [33.16616844, -87.62999221, 36330.0], [33.18522749, -97.19270953, 97208.0], [33.24377302, -95.89563683, 43266.0], [33.32397255, -94.23788333, 13013.0], [33.39659213, -82.21214724, 32715.0], [33.40536423, -92.8330065, 9663.0], [33.42011803, -110.4939377, 14172.0], [33.44442858, -111.9197627, 352094.0], [33.48105046, -102.1159028, 14594.0], [33.48753421, -82.06129699, 29904.0], [33.49500482, -112.4999184, 323476.0], [33.49760013, -84.39142252, 166534.0], [33.49966525, -86.62874068, 42356.0], [33.50463087, -86.80815558, 76915.0], [33.50801087, -112.0594348, 230591.0], [33.53246422, -81.7971931, 25431.0], [33.54001564, -88.6337095, 19459.0], [33.54527751, -86.70058997, 53733.0], [33.57770816, -101.8659727, 37913.0], [33.57786094, -90.81078906, 9323.0], [33.60566711, -116.1737621, 132297.0], [33.61636158, -85.78863892, 17503.0], [33.67220698, -117.8229894, 268428.0], [33.70083978, -93.80333871, 9638.0], [33.7286777, -89.87988378, 7631.0], [33.74051139, -117.8754184, 51077.0], [33.81303047, -118.1708499, 61670.0], [33.81844313, -117.8767371, 199500.0], [33.82242118, -84.34254523, 207291.0], [33.84241649, -117.2822938, 243974.0], [33.8487264, -118.1887304, 80369.0], [33.87712911, -98.61578776, 22092.0], [33.87717155, -118.3273979, 26945.0], [33.87882718, -84.24722308, 427521.0], [33.9002525, -87.5478075, 9233.0], [33.90319931, -80.79367674, 36460.0], [33.90451178, -83.38081233, 56203.0], [33.91033966, -118.035996, 91857.0], [33.91564425, -91.88527011, 11323.0], [33.94952193, -118.3121915, 184302.0], [33.95547619, -118.3359107, 16250.0], [33.97785107, -84.61278737, 208219.0], [33.98978865, -80.8998922, 61504.0], [33.99822153, -79.37769234, 105824.0], [34.01595545, -118.4320422, 27290.0], [34.0198117, -81.0258532, 52639.0], [34.04951999, -118.2957382, 375714.0], [34.07218601, -117.8589428, 247276.0], [34.08351935, -95.73511505, 9176.0], [34.09157959, -118.1369806, 12351.0], [34.11847489, -117.3205191, 27155.0], [34.13562288, -118.1470573, 32382.0], [34.13971991, -118.1183264, 44270.0], [34.15188364, -118.2760927, 41349.0], [34.15413978, -118.4363047, 63397.0], [34.16065021, -118.3918357, 45086.0], [34.17568178, -118.3261838, 24327.0], [34.19740179, -109.9840321, 9786.0], [34.19955081, -86.02329234, 20774.0], [34.20914796, -97.04020816, 10148.0], [34.23029986, -118.5750709, 250366.0], [34.27097378, -119.1190524, 127348.0], [34.27433016, -100.5808333, 2104.0], [34.28362441, -117.2862469, 161766.0], [34.2891912, -78.08137156, 112039.0], [34.33189276, -83.8383092, 113474.0], [34.33971771, -88.6628559, 22270.0], [34.42816751, -119.6947102, 46906.0], [34.43043724, -93.27812138, 18942.0], [34.56849316, -98.60170316, 34140.0], [34.58390667, -112.213077, 38842.0], [34.63221201, -89.75828539, 49128.0], [34.67768896, -87.23686269, 35586.0], [34.69029569, -85.06255167, 40274.0], [34.72508697, -86.49936092, 47498.0], [34.72759074, -86.60573215, 32099.0], [34.73092044, -82.462196, 152769.0], [34.73790968, -95.7887871, 7792.0], [34.74922706, -92.32192202, 31855.0], [34.87790878, -92.21957492, 34759.0], [34.89395375, -81.929428, 55249.0], [34.90712222, -81.01128778, 63281.0], [34.92168981, -92.13874268, 48409.0], [34.97431354, -114.258651, 35895.0], [34.9859099, -77.28354777, 108222.0], [35.00632778, -107.0991889, 40950.0], [35.01738742, -78.9475324, 130467.0], [35.04427954, -85.28285217, 33015.0], [35.05487825, -118.1865568, 95466.0], [35.0808, -106.6478, 2150.0], [35.08446529, -106.642586, 134970.0], [35.088075, -83.868865, 4373.0], [35.08857203, -106.7835958, 20839.0], [35.12613147, -89.95737767, 74394.0], [35.15608296, -96.73038519, 20844.0], [35.16737006, -101.8167634, 27100.0], [35.16979588, -90.48070118, 14948.0], [35.18694703, -120.5499289, 100074.0], [35.21502079, -80.83265285, 170142.0], [35.23934523, -85.30571159, 68645.0], [35.26688777, -101.6259036, 25135.0], [35.27096269, -93.21578209, 13987.0], [35.31159828, -80.76785226, 92395.0], [35.31424286, -107.1822286, 39906.0], [35.32079872, -94.79955256, 7383.0], [35.32547605, -89.66527763, 52705.0], [35.33906188, -80.99037833, 116162.0], [35.35644834, -94.32300199, 20943.0], [35.36057898, -119.0208952, 79851.0], [35.37892117, -97.62321982, 110049.0], [35.40914651, -87.17404884, 20631.0], [35.41385357, -99.24175833, 6570.0], [35.43649308, -111.4090092, 29420.0], [35.45591335, -82.64979975, 68954.0], [35.47427621, -97.52646351, 93474.0], [35.47991136, -108.6006841, 4318.0], [35.48986667, -106.4290556, 13473.0], [35.58817723, -82.54401295, 24969.0], [35.6366772, -88.66090521, 24694.0], [35.67283571, -95.44417857, 22188.0], [35.75610368, -105.9917384, 35233.0], [35.79852, -109.4734943, 1638.0], [35.8020726, -78.6551966, 111820.0], [35.82887174, -78.63465029, 240031.0], [35.87348852, -77.5487614, 58025.0], [35.8832, -105.972775, 3666.0], [35.88759763, -79.59428538, 45849.0], [35.94264222, -81.30105167, 66610.0], [35.94769405, -78.88211162, 58169.0], [35.95710716, -79.77658795, 73655.0], [35.95783008, -91.82066617, 11518.0], [35.95953956, -83.95787445, 74856.0], [35.9602, -106.9588333, 17416.0], [35.98272056, -90.70202897, 22691.0], [36.00896, -83.80920272, 69231.0], [36.03438466, -86.65937709, 129299.0], [36.03715812, -119.2986755, 86223.0], [36.05700861, -79.79280196, 46320.0], [36.08263647, -83.86576203, 44155.0], [36.09141046, -80.25698769, 39571.0], [36.1135733, -85.43378352, 31629.0], [36.13137841, -95.95476784, 57181.0], [36.14088453, -76.32125746, 31477.0], [36.14194742, -115.1464052, 294164.0], [36.1509996, -86.77006301, 113017.0], [36.16061831, -92.89733662, 10269.0], [36.16831872, -94.16100723, 85822.0], [36.17049502, -80.38823575, 31957.0], [36.18684261, -86.86229019, 201127.0], [36.23535634, -115.2332205, 146210.0], [36.23818071, -96.18726677, 97358.0], [36.30005753, -88.77146027, 9720.0], [36.40340963, -82.45638924, 47024.0], [36.42616744, -98.05841337, 14008.0], [36.47882708, -99.46943333, 3062.0], [36.5521338, -89.78712887, 14549.0], [36.56571731, -95.05911154, 11149.0], [36.63330227, -121.6927892, 62710.0], [36.67899857, -97.13105429, 4977.0], [36.69554412, -108.2394676, 12675.0], [36.7322, -108.2101, 2360.0], [36.747908, -101.4293027, 3207.0], [36.75942982, -119.7877985, 85346.0], [36.80008571, -119.7737058, 91408.0], [36.81517643, -82.35745987, 17075.0], [36.82837115, -90.53986923, 5182.0], [36.83753356, -81.11225503, 14564.0], [36.84195069, -76.31723889, 17843.0], [36.86433079, -76.28011677, 48031.0], [36.86878741, -88.57667832, 28129.0], [36.8765575, -84.9619975, 4375.0], [36.88862059, -83.75855735, 6511.0], [36.9071585, -87.1178585, 23611.0], [36.95177949, -76.19095487, 125070.0], [36.96324041, -86.20962746, 31595.0], [36.97619206, -83.31494444, 3433.0], [36.99477671, -84.11550137, 12175.0], [37.00132646, -76.13837831, 56444.0], [37.00231935, -78.31550242, 10437.0], [37.0208908, -94.39958103, 22141.0], [37.03758985, -93.23980149, 20662.0], [37.06934143, -80.10405429, 29878.0], [37.08132778, -76.46009571, 91891.0], [37.10874423, -93.08477083, 35576.0], [37.12884828, -101.2190345, 3146.0], [37.14488689, -84.7034, 6481.0], [37.14932953, -77.38776316, 57435.0], [37.16149444, -79.15126608, 51717.0], [37.17204028, -81.7817375, 6231.0], [37.18211184, -121.8986246, 172978.0], [37.18846981, -82.84871321, 2453.0], [37.19763253, -93.29303116, 34226.0], [37.19971939, -95.75527959, 5327.0], [37.20747706, -80.01200902, 55893.0], [37.22130625, -83.20297375, 3093.0], [37.33080493, -121.8869819, 207183.0], [37.33464326, -89.68450355, 15326.0], [37.33919737, -108.1590553, 14445.0], [37.37688824, -81.17853529, 7857.0], [37.38956667, -85.78402679, 28369.0], [37.42737993, -122.1286039, 18242.0], [37.45488602, -106.3365204, 13421.0], [37.47691148, -122.189659, 175180.0], [37.48574203, -81.62438116, 3066.0], [37.49099205, -82.42633864, 8535.0], [37.4998441, -77.22245983, 78619.0], [37.51378301, -87.66205229, 16417.0], [37.53655694, -82.72551806, 4205.0], [37.54007373, -122.2954237, 29365.0], [37.54388316, -77.47156195, 105743.0], [37.56326989, -95.07840227, 11675.0], [37.56513315, -87.05103859, 19819.0], [37.57174545, -83.47145, 2129.0], [37.59632409, -97.443575, 27573.0], [37.60797488, -113.0020678, 60500.0], [37.61057519, -84.45767143, 23553.0], [37.61908249, -88.99635017, 29438.0], [37.62302112, -97.6276087, 15520.0], [37.62326876, -120.8772632, 191011.0], [37.62949356, -77.41682772, 39479.0], [37.66922182, -92.00520727, 14069.0], [37.6926305, -97.32417154, 63957.0], [37.72302615, -90.59347077, 16577.0], [37.76219923, -122.3946011, 187740.0], [37.76249259, -82.0260037, 3411.0], [37.77124563, -91.7411466, 10843.0], [37.79625, -81.0564381, 3463.0], [37.79860639, -122.2548117, 65933.0], [37.825463, -81.192217, 15174.0], [37.82998898, -100.6836017, 13705.0], [37.83328475, -80.45680678, 5274.0], [37.84141388, -122.2695947, 19657.0], [37.84587461, -122.0596776, 505731.0], [37.8657, -83.18136875, 2785.0], [37.8725093, -82.72363488, 4481.0], [37.88070144, -86.12891007, 25855.0], [37.89559344, -122.2934959, 20332.0], [37.99666411, -87.57650706, 28055.0], [38.00169848, -122.5495902, 78719.0], [38.01704024, -121.2173024, 81343.0], [38.03993119, -84.49464505, 54683.0], [38.04090567, -78.55812933, 50689.0], [38.04320667, -79.31057, 20870.0], [38.05054575, -84.30491134, 51327.0], [38.11337778, -104.1576306, 35465.0], [38.1286406, -87.51540376, 19172.0], [38.14045983, -85.35047406, 47586.0], [38.15327143, -77.24898469, 44878.0], [38.15344, -94.21542651, 8063.0], [38.1793866, -98.4829823, 14309.0], [38.20314857, -84.87596857, 8968.0], [38.23108786, -77.30653931, 52608.0], [38.23387429, -85.71533017, 136196.0], [38.26736075, -81.62581589, 11567.0], [38.28920448, -81.51959701, 8215.0], [38.32723605, -88.73359252, 22241.0], [38.3517255, -81.6372055, 21153.0], [38.35476786, -82.14961161, 21258.0], [38.36056166, -75.58505389, 39500.0], [38.36596095, -96.43049429, 6781.0], [38.3686625, -107.9244188, 16613.0], [38.38712204, -85.93780806, 54409.0], [38.41577699, -82.43553274, 11357.0], [38.41843557, -92.30300619, 18825.0], [38.44128559, -82.87836486, 15244.0], [38.45003061, -78.03821939, 15158.0], [38.45512727, -80.77590909, 3158.0], [38.47295556, -87.07575661, 19079.0], [38.50298, -106.0065733, 15766.0], [38.50563333, -78.81185, 22154.0], [38.5198849, -89.89322735, 66444.0], [38.52837802, -76.80524593, 100956.0], [38.54645179, -92.12924107, 9850.0], [38.57836643, -121.437606, 127402.0], [38.58410509, -90.49530041, 120142.0], [38.61212023, -122.851428, 98569.0], [38.62058326, -121.3717498, 224635.0], [38.64277166, -90.32420032, 132095.0], [38.65841184, -81.59550921, 7600.0], [38.67373467, -121.2380987, 76975.0], [38.74632963, -93.27199704, 15033.0], [38.81124098, -110.4007082, 10898.0], [38.83112862, -77.1054273, 85882.0], [38.83510377, -77.22143642, 106937.0], [38.83949227, -90.75571211, 96601.0], [38.85287251, -104.799162, 143331.0], [38.86234783, -77.22257693, 109728.0], [38.86444066, -79.99928901, 8507.0], [38.86673676, -76.05069081, 28652.0], [38.88058095, -75.42778852, 89874.0], [38.88123443, -77.10090017, 77274.0], [38.88967421, -84.4601595, 132482.0], [38.89208378, -77.01771081, 80.0], [38.89758929, -77.02809643, 67.0], [38.90325843, -77.40995754, 266832.0], [38.91072436, -77.03283497, 215729.0], [38.9158876, -77.02618062, 120.0], [38.93435708, -95.05452192, 68315.0], [38.93469421, -97.65358684, 15416.0], [38.93795366, -79.0184878, 4086.0], [38.93950923, -82.83995351, 38718.0], [38.95123795, -90.03519406, 47639.0], [38.96671509, -76.8871367, 235103.0], [38.98082601, -94.68716415, 56759.0], [38.9896406, -76.54905789, 22063.0], [39.0233881, -77.02748367, 61704.0], [39.0389, -88.21911324, 19048.0], [39.04398621, -95.68609808, 19838.0], [39.05893811, -94.33277014, 90838.0], [39.07277338, -78.19579286, 38507.0], [39.07391085, -108.5382101, 24544.0], [39.07738908, -77.13893504, 161941.0], [39.08093621, -85.77911494, 32124.0], [39.0817, -74.8214, 61601.0], [39.08281453, -103.906065, 28535.0], [39.08977733, -94.57005561, 84255.0], [39.09371548, -92.37446706, 43208.0], [39.09528246, -94.65524408, 16632.0], [39.09674727, -86.60703203, 40600.0], [39.15722991, -83.99085179, 52351.0], [39.15902359, -84.48673461, 124028.0], [39.17011121, -85.07709828, 16511.0], [39.20946477, -119.7804102, 16724.0], [39.21827692, -80.45758462, 12390.0], [39.25003542, -115.2364167, 3218.0], [39.25559726, -80.41546027, 6425.0], [39.28909, -81.33790077, 17262.0], [39.29447701, -96.19764385, 22347.0], [39.29973353, -76.6165766, 193507.0], [39.30355192, -76.62872847, 232706.0], [39.31982141, -76.66981463, 118482.0], [39.33143438, -99.43567031, 6474.0], [39.3365, -74.4828, 9977.0], [39.35670694, -81.78468382, 19658.0], [39.36192889, -74.75292026, 279870.0], [39.36488847, -84.47358922, 102101.0], [39.36629756, -101.0279646, 4177.0], [39.37605182, -96.07366496, 15998.0], [39.39578605, -78.97946977, 6340.0], [39.42938372, -78.08368837, 44394.0], [39.43083598, -121.5715556, 97639.0], [39.44913587, -77.382995, 121541.0], [39.46530401, -87.30900766, 20428.0], [39.47426061, -75.01237929, 43726.0], [39.50761301, -119.7746952, 83233.0], [39.52802348, -119.2292659, 78727.0], [39.56120375, -75.99228125, 20381.0], [39.57773953, -78.96976628, 15294.0], [39.5895, -80.0849882, 34683.0], [39.61452295, -88.24764508, 11947.0], [39.64477796, -104.9813544, 282886.0], [39.64786833, -107.1934217, 39072.0], [39.65372482, -120.3429794, 23533.0], [39.66349433, -86.14894925, 103346.0], [39.67063322, -75.65360909, 87213.0], [39.73627057, -104.9979484, 352458.0], [39.73803378, -105.0316401, 32462.0], [39.74218095, -84.18725084, 78490.0], [39.74372985, -75.56226797, 41650.0], [39.74485394, -104.9808302, 187427.0], [39.74905909, -94.83797841, 8408.0], [39.7624424, -89.084536, 23600.0], [39.77201287, -97.75138218, 2742.0], [39.77307666, -82.97101136, 74389.0], [39.78802638, -89.63288383, 21513.0], [39.79542842, -105.5822478, 47218.0], [39.80133567, -86.16142314, 136642.0], [39.83873131, -89.95216589, 23340.0], [39.86437186, -81.70282412, 20457.0], [39.87953642, -93.57074383, 7290.0], [39.89411341, -74.45477726, 75585.0], [39.91378017, -83.81843554, 16872.0], [39.91429771, -76.83668211, 66208.0], [39.93342742, -91.77797823, 6316.0], [39.93731689, -84.26774327, 81421.0], [39.93994576, -75.10335695, 28035.0], [39.95365, -79.74857363, 19212.0], [39.96023529, -77.73703309, 30664.0], [39.96253563, -76.721075, 38284.0], [39.97870243, -75.61172708, 87541.0], [39.98244557, -75.15100769, 282612.0], [39.9934046, -82.99688785, 125479.0], [40.00922679, -78.83279464, 9059.0], [40.02654124, -86.03091353, 97478.0], [40.03073867, -74.191903, 112594.0], [40.03945464, -91.05728402, 12011.0], [40.04796608, -76.3200386, 38886.0], [40.04971981, -75.19010931, 240323.0], [40.06071446, -94.66141968, 11310.0], [40.06206193, -74.22597178, 56133.0], [40.06320569, -111.7190128, 47615.0], [40.0787199, -76.24097704, 52474.0], [40.0869122, -85.25338244, 33133.0], [40.09943092, -82.95510679, 150565.0], [40.1160987, -88.13664375, 43633.0], [40.12427185, -80.16128992, 35677.0], [40.14909193, -75.36631969, 111899.0], [40.15625591, -80.61938661, 22065.0], [40.15954867, -92.57150531, 7074.0], [40.22833099, -81.90157042, 5110.0], [40.22932944, -74.72748806, 54205.0], [40.23774351, -104.747136, 69471.0], [40.2544375, -80.85086875, 25596.0], [40.26888145, -76.86055597, 32970.0], [40.29460743, -75.13967883, 79385.0], [40.3038, -73.9858, 153940.0], [40.32746812, -100.7597536, 3129.0], [40.32961781, -75.9111668, 43467.0], [40.3307, -76.94386764, 121020.0], [40.33140295, -79.58745574, 51112.0], [40.35897235, -78.87375176, 21355.0], [40.35996115, -98.79642038, 9489.0], [40.37234731, -75.82671183, 37241.0], [40.385325, -103.2727469, 11345.0], [40.38968207, -105.0863883, 153658.0], [40.40483168, -86.98645217, 43408.0], [40.44167781, -79.98308384, 128683.0], [40.44208, -79.96457029, 69465.0], [40.47496834, -96.82916935, 9003.0], [40.48827386, -80.06192407, 78567.0], [40.48942037, -74.44261806, 20702.0], [40.50281889, -83.39241613, 22354.0], [40.507425, -88.96924515, 33156.0], [40.5086, -78.33891137, 28212.0], [40.53162924, -74.5131388, 222376.0], [40.58665963, -75.48004667, 37910.0], [40.590752, -77.209755, 1879.0], [40.6017, -96.68741951, 7518.0], [40.60260336, -74.1228694, 128369.0], [40.60472791, -73.81473256, 28860.0], [40.62422628, -75.41782569, 111311.0], [40.64010797, -86.04579124, 39029.0], [40.66282252, -123.9543576, 27757.0], [40.66649174, -73.95393848, 575267.0], [40.6674, -74.1146, 427005.0], [40.67013187, -111.7536007, 342010.0], [40.672, -74.7507, 82146.0], [40.6965, -74.267, 32544.0], [40.69842097, -73.81199682, 163027.0], [40.69865023, -89.63962, 32509.0], [40.69903272, -79.0433963, 13694.0], [40.70348989, -89.59435955, 23290.0], [40.7148, -74.0371, 75768.0], [40.71563333, -76.21331714, 18047.0], [40.71575628, -81.49987951, 61782.0], [40.71726882, -74.00654353, 6675.0], [40.72620155, -73.62281814, 181774.0], [40.7339, -74.1617, 71764.0], [40.73951069, -111.8893784, 121440.0], [40.74237028, -73.67615728, 54542.0], [40.74291633, -73.86860143, 232619.0], [40.74394506, -122.3227024, 49265.0], [40.74525552, -73.98520233, 618083.0], [40.74727355, -73.9830577, 25733.0], [40.7491698, -73.94105235, 84563.0], [40.75247333, -95.36260333, 3006.0], [40.753431, -82.527088, 13868.0], [40.75607573, -72.78328693, 47571.0], [40.75869444, -73.53503889, 15332.0], [40.78807368, -73.30625937, 379145.0], [40.80695055, -84.13205802, 48812.0], [40.81582158, -96.70436163, 47583.0], [40.82424441, -81.38812524, 30067.0], [40.84227184, -73.88505434, 308589.0], [40.84472133, -91.36219667, 11284.0], [40.85782888, -90.3608213, 13653.0], [40.87177742, -79.92391659, 35694.0], [40.87343242, -72.71286301, 72389.0], [40.887, -74.0391, 114961.0], [40.89796167, -115.7582833, 14934.0], [40.89835472, -77.98498962, 31812.0], [40.90529258, -87.92851528, 20836.0], [40.91117327, -75.91078119, 25008.0], [40.91138511, -76.71143936, 30570.0], [40.9125, -74.1653, 30362.0], [40.93233725, -73.78483333, 20869.0], [40.94393272, -73.86919228, 62815.0], [41.00143488, -94.56715233, 3610.0], [41.00415955, -92.42294494, 11810.0], [41.02528516, -73.77777387, 17761.0], [41.0390295, -79.41189353, 13779.0], [41.04724939, -75.24029085, 44630.0], [41.0592, -74.1322, 100810.0], [41.06798259, -98.76814656, 21227.0], [41.07450245, -82.76786104, 41871.0], [41.0788, -73.4713, 95964.0], [41.08042744, -81.52387515, 38623.0], [41.08264353, -85.14805129, 58671.0], [41.08623182, -80.67491818, 25345.0], [41.1003, -73.549, 31976.0], [41.11518994, -73.78099939, 166608.0], [41.119136, -80.3581008, 27928.0], [41.12442833, -80.77224983, 48324.0], [41.12977559, -81.57693529, 109080.0], [41.1628586, -85.21809355, 41567.0], [41.17161953, -111.9577553, 43596.0], [41.1777, -73.1933, 41168.0], [41.2043562, -104.8375212, 29077.0], [41.211135, -74.11537659, 120313.0], [41.23524105, -78.77409789, 11996.0], [41.24694724, -75.88343681, 23383.0], [41.24710388, -101.5749008, 12392.0], [41.25440132, -77.08451711, 23505.0], [41.25543097, -96.0148332, 84225.0], [41.30784775, -75.94537416, 30106.0], [41.32397091, -89.17817227, 21450.0], [41.3877, -72.4336, 127420.0], [41.39117573, -96.32725485, 37783.0], [41.39919606, -75.68046897, 25603.0], [41.41526328, -83.31105876, 26945.0], [41.42927763, -95.57287443, 16598.0], [41.47630406, -81.66229582, 203699.0], [41.4776728, -90.41095, 22583.0], [41.48068091, -84.08053819, 50981.0], [41.5005344, -97.5927936, 7382.0], [41.50855327, -87.23224405, 122524.0], [41.5127961, -86.01782439, 73520.0], [41.52704885, -81.52019645, 148679.0], [41.53036893, -75.46419322, 33921.0], [41.53132764, -90.57668943, 13452.0], [41.5522, -73.0443, 106493.0], [41.558338, -87.35222267, 14708.0], [41.56453208, -79.65535409, 19300.0], [41.59338091, -93.64707971, 34519.0], [41.60386455, -87.89844931, 226762.0], [41.6163, -72.0827, 44998.0], [41.61678456, -70.56772206, 31351.0], [41.62845172, -107.156769, 3596.0], [41.64590807, -90.79146149, 29927.0], [41.64853082, -83.57440151, 49586.0], [41.65332623, -93.6050963, 33548.0], [41.65471736, -111.9732493, 35104.0], [41.65489609, -74.71532109, 25467.0], [41.66425118, -93.4293748, 20993.0], [41.66493261, -86.24517319, 26114.0], [41.67731172, -93.84671925, 40086.0], [41.68099508, -109.9486689, 18995.0], [41.6929, -72.3122, 22963.0], [41.69560833, -73.9233869, 17002.0], [41.69834209, -73.89105316, 94855.0], [41.70319953, -71.46661189, 118583.0], [41.71246484, -70.23067692, 35968.0], [41.7215963, -87.70084352, 19917.0], [41.77048621, -71.09835991, 105185.0], [41.79998337, -88.04199057, 172880.0], [41.80733463, -91.67518485, 28731.0], [41.8087759, -71.42421299, 67417.0], [41.81512832, -76.12135487, 11504.0], [41.81944151, -78.55696981, 5836.0], [41.82211053, -77.30583789, 7716.0], [41.86845455, -86.37042, 18850.0], [41.87542656, -87.78759688, 8740.0], [41.88102002, -87.6647625, 513014.0], [41.88696429, -79.99716071, 13326.0], [41.88915947, -91.72094229, 28555.0], [41.95731228, -88.06667305, 240791.0], [41.9682, -73.4412, 114281.0], [41.9738024, -91.66650144, 23972.0], [41.9802503, -87.80815917, 20689.0], [42.03563672, -74.11526836, 32808.0], [42.04001579, -87.76560877, 16083.0], [42.07787459, -70.96676733, 87439.0], [42.09806724, -76.79182759, 8788.0], [42.09958346, -84.37126272, 49548.0], [42.10401583, -75.90619784, 13753.0], [42.10577295, -72.58373891, 27954.0], [42.11030273, -95.05680909, 5068.0], [42.11951227, -80.08246136, 26288.0], [42.12912375, -87.94723077, 320892.0], [42.15680674, -103.1480034, 11569.0], [42.18049113, -89.52168805, 42796.0], [42.18647637, -71.14535043, 85053.0], [42.19690941, -78.9368995, 24307.0], [42.20430511, -75.71403139, 25194.0], [42.22159842, -72.57355816, 79599.0], [42.23993449, -85.5542998, 116699.0], [42.24197516, -71.76761484, 75732.0], [42.25691707, -104.4828512, 3232.0], [42.25718997, -89.06446021, 29148.0], [42.26459123, -71.79338084, 31427.0], [42.27868188, -83.45545606, 283423.0], [42.29343289, -76.99774497, 46359.0], [42.31484412, -75.62288235, 21211.0], [42.31514857, -121.5340757, 13015.0], [42.33511609, -71.41725034, 85765.0], [42.35170427, -71.07717596, 380758.0], [42.35386118, -71.06993122, 12875.0], [42.35635691, -71.1822087, 98230.0], [42.36023158, -97.61885921, 15013.0], [42.3858199, -122.935425, 47767.0], [42.39080819, -83.14199046, 98112.0], [42.39659452, -73.23757603, 22353.0], [42.445925, -90.86635638, 18546.0], [42.47064419, -110.7402907, 4335.0], [42.49654643, -96.39713929, 9606.0], [42.5175396, -92.37885347, 10559.0], [42.55964044, -70.9448446, 104651.0], [42.56623253, -71.6967241, 41680.0], [42.57007715, -83.05080711, 244314.0], [42.57895574, -72.54004426, 13895.0], [42.59103571, -95.91842143, 8174.0], [42.59929066, -83.29431018, 192765.0], [42.60650553, -92.4905383, 20550.0], [42.60905578, -71.20474104, 159907.0], [42.66180847, -73.76956911, 31261.0], [42.69234195, -73.84015671, 53726.0], [42.70167205, -94.41332441, 12788.0], [42.71928417, -87.80395827, 15484.0], [42.73830116, -84.55767188, 26772.0], [42.75112857, -73.92861229, 60535.0], [42.75548148, -100.4617037, 877.0], [42.78925236, -73.90415864, 32341.0], [42.78957806, -114.2452619, 26711.0], [42.82607134, -88.12311937, 107810.0], [42.83957564, -78.68910897, 86521.0], [42.84900883, -71.43806364, 95582.0], [42.85851389, -90.71987778, 6118.0], [42.86746525, -106.329122, 17118.0], [42.89443054, -112.4368826, 26200.0], [42.89635879, -78.77738187, 38769.0], [42.90586967, -78.84116078, 112712.0], [42.92479015, -89.49684039, 92776.0], [42.93445679, -72.20745802, 16313.0], [42.94292113, -72.7295507, 4763.0], [42.95488849, -85.64635825, 70923.0], [42.95672422, -84.62907431, 101048.0], [42.97031875, -108.575025, 6950.0], [42.99436347, -71.4652, 39022.0], [42.99775466, -76.20254689, 71882.0], [43.00540746, -83.67703582, 20411.0], [43.01512782, -77.55959839, 55571.0], [43.02661111, -77.4711828, 59490.0], [43.04897908, -87.96004034, 105614.0], [43.05455039, -76.14863619, 34430.0], [43.06662667, -76.29617611, 30093.0], [43.06891636, -73.12794727, 5570.0], [43.06974898, -89.4000386, 55010.0], [43.07818571, -79.01328036, 12515.0], [43.10211958, -83.38314545, 75056.0], [43.10318462, -75.22635192, 10748.0], [43.10408259, -75.33231194, 29768.0], [43.12366951, -75.23849512, 20193.0], [43.15380025, -77.61061104, 95801.0], [43.15831164, -86.10839498, 83546.0], [43.16045897, -91.75820085, 4436.0], [43.17819747, -93.27607004, 10308.0], [43.18603846, -70.71189487, 9004.0], [43.18829061, -85.55302058, 55497.0], [43.21538636, -72.30859091, 2007.0], [43.2209, -71.55933, 12897.0], [43.24875168, -71.02708603, 68596.0], [43.25915733, -96.03725867, 4236.0], [43.27961646, -95.18091519, 5177.0], [43.28894746, -72.55720508, 3541.0], [43.31938779, -73.67786374, 36137.0], [43.36106462, -88.16321031, 107602.0], [43.43761278, -96.96780376, 26435.0], [43.48417588, -71.60856181, 33432.0], [43.51857143, -110.7408607, 8654.0], [43.53984858, -96.73553239, 29521.0], [43.5936372, -89.46369324, 29672.0], [43.61258508, -116.2310588, 70286.0], [43.64964447, -84.14587562, 56155.0], [43.65348226, -70.26322312, 30891.0], [43.68600566, -72.16861698, 13246.0], [43.69014437, -73.07828411, 9139.0], [43.70327886, -70.459, 63482.0], [43.70592611, -112.0616383, 34612.0], [43.7288323, -116.3854156, 117294.0], [43.7873894, -98.39546093, 10715.0], [43.79203105, -123.2901347, 96472.0], [43.7951267, -72.35990682, 7259.0], [43.82773119, -100.4761202, 5126.0], [43.84184413, -91.00697611, 30155.0], [43.84348732, -83.59162254, 22630.0], [43.88213394, -95.67711719, 7062.0], [43.89181429, -117.2455071, 2534.0], [43.93159213, -92.35976827, 42862.0], [43.95624528, -69.61855849, 8530.0], [44.02201986, -121.0295383, 49194.0], [44.03638991, -93.89814826, 29048.0], [44.15387451, -69.11161961, 5477.0], [44.16485399, -88.5758577, 66888.0], [44.16856919, -103.2346313, 28127.0], [44.21177358, -104.9972717, 11463.0], [44.27333841, -70.36711325, 27956.0], [44.28428242, -69.79427473, 12203.0], [44.2923, -75.55557203, 50892.0], [44.3038876, -72.57091405, 12851.0], [44.44188545, -108.5115073, 9856.0], [44.45921119, -87.58660448, 15778.0], [44.508659, -88.01764895, 26488.0], [44.5309594, -85.58399612, 45180.0], [44.54390303, -73.10620947, 52207.0], [44.5527, -71.45347544, 10846.0], [44.58697813, -73.8274599, 29937.0], [44.59146195, -68.03332566, 14125.0], [44.67923333, -72.13329922, 8724.0], [44.68892432, -106.8533054, 9216.0], [44.70606, -69.65431842, 19588.0], [44.72309698, -88.18881121, 36697.0], [44.72667391, -71.66316957, 66.0], [44.83562986, -89.79630676, 47854.0], [44.83833408, -123.1232028, 103871.0], [44.84951242, -91.55992418, 30080.0], [44.95936257, -93.11103565, 92339.0], [44.98009662, -97.08865608, 9946.0], [44.99277514, -93.30552658, 154981.0], [44.99705593, -93.50644075, 156559.0], [44.99963544, -93.20156376, 104359.0], [45.01625744, -95.56569931, 13525.0], [45.02228895, -68.79468837, 27345.0], [45.07963229, -92.48178542, 21366.0], [45.32737754, -118.5658833, 22864.0], [45.39809926, -98.79335882, 6677.0], [45.42333491, -84.610288, 37821.0], [45.47366175, -122.5845272, 141315.0], [45.5050069, -123.1825698, 56527.0], [45.527154, -122.6820627, 141524.0], [45.57915231, -101.6688877, 2365.0], [45.69376529, -94.47679609, 31345.0], [45.70692416, -111.8594651, 40712.0], [45.76925855, -122.62344, 87919.0], [45.79360313, -108.50275, 26859.0], [45.81129932, -108.806123, 11890.0], [45.85441513, -89.76227566, 9951.0], [45.95046207, -91.74922414, 19231.0], [46.07257957, -87.23539, 21957.0], [46.26556875, -116.5292313, 9725.0], [46.28499278, -118.9835701, 71727.0], [46.34385859, -105.5833909, 6323.0], [46.38525, -117.03592, 5087.0], [46.50039171, -94.4740212, 17235.0], [46.58341183, -111.9747484, 13881.0], [46.62067943, -120.4825766, 40109.0], [46.64805574, -88.86409344, 9610.0], [46.685284, -97.24196857, 16005.0], [46.72181325, -68.11694217, 11107.0], [46.7520186, -102.9332953, 14025.0], [46.77353571, -92.1470526, 14293.0], [46.79292122, -96.17529714, 22445.0], [46.84600255, -98.90829554, 7330.0], [46.85442287, -100.8647404, 27271.0], [46.87250303, -96.80434545, 20183.0], [46.95929275, -114.0943749, 36011.0], [46.99355624, -123.0236772, 95466.0], [47.18549269, -92.79225662, 20245.0], [47.24239474, -122.4420014, 82289.0], [47.44826333, -91.03148333, 3537.0], [47.47634214, -122.5928732, 178202.0], [47.56846941, -122.218759, 335558.0], [47.6003177, -122.3192885, 229608.0], [47.61674601, -116.6744333, 56960.0], [47.64104545, -117.8633552, 20938.0], [47.66157143, -117.3964312, 72061.0], [47.6672503, -117.3992072, 32223.0], [47.67447431, -111.225178, 20747.0], [47.68955592, -119.8267546, 42526.0], [47.74855649, -94.48148168, 13508.0], [48.13842191, -97.47861404, 15528.0], [48.1942, -105.1720441, 7521.0], [48.22699563, -122.3073792, 204845.0], [48.27443134, -103.5219209, 22293.0], [48.29306703, -114.4339319, 21391.0], [48.3134622, -99.26710157, 7857.0], [48.32176885, -96.40352213, 10040.0], [48.34403608, -101.5909835, 24392.0], [48.41191, -109.6148, 3654.0], [55.847715, -132.703055, 2037.0], [58.18833396, -135.2278113, 3872.0], [60.52438482, -153.405946, 11541.0], [60.97021337, -151.14011, 22453.0], [65.35964757, -151.8940151, 13113.0]],\n",
       "                {&quot;blur&quot;: 15, &quot;maxZoom&quot;: 5, &quot;minOpacity&quot;: 0.5, &quot;radius&quot;: 12}\n",
       "            ).addTo(map_d9792943285bdc5983a8559ae1390493);\n",
       "        \n",
       "&lt;/script&gt;\n",
       "&lt;/html&gt;\" style=\"position:absolute;width:100%;height:100%;left:0;top:0;border:none !important;\" allowfullscreen webkitallowfullscreen mozallowfullscreen></iframe></div></div>"
      ],
      "text/plain": [
       "<folium.folium.Map at 0x7fe06f097820>"
      ]
     },
     "metadata": {},
     "output_type": "display_data"
    }
   ],
   "source": [
    "# demand share of each three-digit zip code\n",
    "zip_heatmap(glob)"
   ]
  },
  {
   "cell_type": "markdown",
   "id": "33e439d8",
   "metadata": {},
   "source": [
    "#### Product Category"
   ]
  },
  {
   "cell_type": "code",
   "execution_count": 101,
   "id": "ca3d6db0",
   "metadata": {},
   "outputs": [
    {
     "data": {
      "text/html": [
       "<div style=\"width:100%;\"><div style=\"position:relative;width:100%;height:0;padding-bottom:60%;\"><span style=\"color:#565656\">Make this Notebook Trusted to load map: File -> Trust Notebook</span><iframe srcdoc=\"&lt;!DOCTYPE html&gt;\n",
       "&lt;html&gt;\n",
       "&lt;head&gt;\n",
       "    \n",
       "    &lt;meta http-equiv=&quot;content-type&quot; content=&quot;text/html; charset=UTF-8&quot; /&gt;\n",
       "    \n",
       "        &lt;script&gt;\n",
       "            L_NO_TOUCH = false;\n",
       "            L_DISABLE_3D = false;\n",
       "        &lt;/script&gt;\n",
       "    \n",
       "    &lt;style&gt;html, body {width: 100%;height: 100%;margin: 0;padding: 0;}&lt;/style&gt;\n",
       "    &lt;style&gt;#map {position:absolute;top:0;bottom:0;right:0;left:0;}&lt;/style&gt;\n",
       "    &lt;script src=&quot;https://cdn.jsdelivr.net/npm/leaflet@1.6.0/dist/leaflet.js&quot;&gt;&lt;/script&gt;\n",
       "    &lt;script src=&quot;https://code.jquery.com/jquery-1.12.4.min.js&quot;&gt;&lt;/script&gt;\n",
       "    &lt;script src=&quot;https://maxcdn.bootstrapcdn.com/bootstrap/3.2.0/js/bootstrap.min.js&quot;&gt;&lt;/script&gt;\n",
       "    &lt;script src=&quot;https://cdnjs.cloudflare.com/ajax/libs/Leaflet.awesome-markers/2.0.2/leaflet.awesome-markers.js&quot;&gt;&lt;/script&gt;\n",
       "    &lt;link rel=&quot;stylesheet&quot; href=&quot;https://cdn.jsdelivr.net/npm/leaflet@1.6.0/dist/leaflet.css&quot;/&gt;\n",
       "    &lt;link rel=&quot;stylesheet&quot; href=&quot;https://maxcdn.bootstrapcdn.com/bootstrap/3.2.0/css/bootstrap.min.css&quot;/&gt;\n",
       "    &lt;link rel=&quot;stylesheet&quot; href=&quot;https://maxcdn.bootstrapcdn.com/bootstrap/3.2.0/css/bootstrap-theme.min.css&quot;/&gt;\n",
       "    &lt;link rel=&quot;stylesheet&quot; href=&quot;https://maxcdn.bootstrapcdn.com/font-awesome/4.6.3/css/font-awesome.min.css&quot;/&gt;\n",
       "    &lt;link rel=&quot;stylesheet&quot; href=&quot;https://cdnjs.cloudflare.com/ajax/libs/Leaflet.awesome-markers/2.0.2/leaflet.awesome-markers.css&quot;/&gt;\n",
       "    &lt;link rel=&quot;stylesheet&quot; href=&quot;https://cdn.jsdelivr.net/gh/python-visualization/folium/folium/templates/leaflet.awesome.rotate.min.css&quot;/&gt;\n",
       "    \n",
       "            &lt;meta name=&quot;viewport&quot; content=&quot;width=device-width,\n",
       "                initial-scale=1.0, maximum-scale=1.0, user-scalable=no&quot; /&gt;\n",
       "            &lt;style&gt;\n",
       "                #map_de80da7368fc0c249adccbb9ea8515cd {\n",
       "                    position: relative;\n",
       "                    width: 100.0%;\n",
       "                    height: 100.0%;\n",
       "                    left: 0.0%;\n",
       "                    top: 0.0%;\n",
       "                }\n",
       "            &lt;/style&gt;\n",
       "        \n",
       "    &lt;script src=&quot;https://cdn.jsdelivr.net/gh/python-visualization/folium@main/folium/templates/leaflet_heat.min.js&quot;&gt;&lt;/script&gt;\n",
       "&lt;/head&gt;\n",
       "&lt;body&gt;\n",
       "    \n",
       "    \n",
       "            &lt;div class=&quot;folium-map&quot; id=&quot;map_de80da7368fc0c249adccbb9ea8515cd&quot; &gt;&lt;/div&gt;\n",
       "        \n",
       "&lt;/body&gt;\n",
       "&lt;script&gt;\n",
       "    \n",
       "    \n",
       "            var map_de80da7368fc0c249adccbb9ea8515cd = L.map(\n",
       "                &quot;map_de80da7368fc0c249adccbb9ea8515cd&quot;,\n",
       "                {\n",
       "                    center: [38.58564766416667, -90.95681820208335],\n",
       "                    crs: L.CRS.EPSG3857,\n",
       "                    zoom: 5,\n",
       "                    zoomControl: true,\n",
       "                    preferCanvas: false,\n",
       "                }\n",
       "            );\n",
       "\n",
       "            \n",
       "\n",
       "        \n",
       "    \n",
       "            var tile_layer_dca1f5f6305b63bcaf2e1a0a0939925c = L.tileLayer(\n",
       "                &quot;https://{s}.tile.openstreetmap.org/{z}/{x}/{y}.png&quot;,\n",
       "                {&quot;attribution&quot;: &quot;Data by \\u0026copy; \\u003ca href=\\&quot;http://openstreetmap.org\\&quot;\\u003eOpenStreetMap\\u003c/a\\u003e, under \\u003ca href=\\&quot;http://www.openstreetmap.org/copyright\\&quot;\\u003eODbL\\u003c/a\\u003e.&quot;, &quot;detectRetina&quot;: false, &quot;maxNativeZoom&quot;: 18, &quot;maxZoom&quot;: 18, &quot;minZoom&quot;: 0, &quot;noWrap&quot;: false, &quot;opacity&quot;: 1, &quot;subdomains&quot;: &quot;abc&quot;, &quot;tms&quot;: false}\n",
       "            ).addTo(map_de80da7368fc0c249adccbb9ea8515cd);\n",
       "        \n",
       "    \n",
       "            var heat_map_590ebb28910eea4f79e557c1fc0add94 = L.heatLayer(\n",
       "                [[30.30363295, -97.74164957, 55.0], [33.50801087, -112.0594348, 67.0], [33.87882718, -84.24722308, 81.0], [33.97785107, -84.61278737, 69.0], [34.01595545, -118.4320422, 131.0], [34.04951999, -118.2957382, 161.0], [35.00632778, -107.0991889, 239.0], [37.18211184, -121.8986246, 64.0], [37.54388316, -77.47156195, 59.0], [37.62326876, -120.8772632, 82.0], [38.32723605, -88.73359252, 74.0], [38.91072436, -77.03283497, 60.0], [39.07738908, -77.13893504, 60.0], [39.77307666, -82.97101136, 63.0], [40.69842097, -73.81199682, 74.0], [40.74525552, -73.98520233, 77.0], [41.119136, -80.3581008, 82.0], [41.69834209, -73.89105316, 60.0], [41.88102002, -87.6647625, 143.0], [42.07787459, -70.96676733, 146.0], [42.12912375, -87.94723077, 59.0], [42.35170427, -71.07717596, 74.0], [42.93445679, -72.20745802, 80.0], [47.24239474, -122.4420014, 61.0]],\n",
       "                {&quot;blur&quot;: 15, &quot;maxZoom&quot;: 5, &quot;minOpacity&quot;: 0.5, &quot;radius&quot;: 12}\n",
       "            ).addTo(map_de80da7368fc0c249adccbb9ea8515cd);\n",
       "        \n",
       "&lt;/script&gt;\n",
       "&lt;/html&gt;\" style=\"position:absolute;width:100%;height:100%;left:0;top:0;border:none !important;\" allowfullscreen webkitallowfullscreen mozallowfullscreen></iframe></div></div>"
      ],
      "text/plain": [
       "<folium.folium.Map at 0x7fe00192dd60>"
      ]
     },
     "metadata": {},
     "output_type": "display_data"
    }
   ],
   "source": [
    "# category from A-X\n",
    "zip_heatmap(prdct_by_cat_dict[\"G\"])"
   ]
  },
  {
   "cell_type": "markdown",
   "id": "f8541eec",
   "metadata": {},
   "source": [
    "## b"
   ]
  },
  {
   "cell_type": "code",
   "execution_count": 203,
   "id": "1b3f6d40",
   "metadata": {},
   "outputs": [],
   "source": [
    "import matplotlib.pyplot as plt\n",
    "import datetime"
   ]
  },
  {
   "cell_type": "code",
   "execution_count": 204,
   "id": "553f0104",
   "metadata": {},
   "outputs": [
    {
     "data": {
      "text/plain": [
       "Index(['Order_Date', 'Quantity'], dtype='object')"
      ]
     },
     "execution_count": 204,
     "metadata": {},
     "output_type": "execute_result"
    }
   ],
   "source": [
    "#daily demand globally\n",
    "daily_demand_total=orders_raw.groupby(['Order_Date'])['Quantity'].sum()\n",
    "daily_demand_total=pd.DataFrame(data = daily_demand_total).reset_index()"
   ]
  },
  {
   "cell_type": "code",
   "execution_count": 205,
   "id": "169b84e7",
   "metadata": {},
   "outputs": [
    {
     "data": {
      "image/png": "[encoded data removed]",
      "text/plain": [
       "<Figure size 432x288 with 1 Axes>"
      ]
     },
     "metadata": {
      "needs_background": "light"
     },
     "output_type": "display_data"
    }
   ],
   "source": [
    "daily_demand_plot= daily_demand_total.plot.line(x='Order_Date', y='Quantity')"
   ]
  },
  {
   "cell_type": "code",
   "execution_count": 208,
   "id": "de2f20be",
   "metadata": {},
   "outputs": [
    {
     "data": {
      "text/html": [
       "<div>\n",
       "<style scoped>\n",
       "    .dataframe tbody tr th:only-of-type {\n",
       "        vertical-align: middle;\n",
       "    }\n",
       "\n",
       "    .dataframe tbody tr th {\n",
       "        vertical-align: top;\n",
       "    }\n",
       "\n",
       "    .dataframe thead th {\n",
       "        text-align: right;\n",
       "    }\n",
       "</style>\n",
       "<table border=\"1\" class=\"dataframe\">\n",
       "  <thead>\n",
       "    <tr style=\"text-align: right;\">\n",
       "      <th></th>\n",
       "      <th>Order_Date</th>\n",
       "      <th>Quantity</th>\n",
       "      <th>Week</th>\n",
       "    </tr>\n",
       "  </thead>\n",
       "  <tbody>\n",
       "    <tr>\n",
       "      <th>0</th>\n",
       "      <td>2019-01-01</td>\n",
       "      <td>149461</td>\n",
       "      <td>1</td>\n",
       "    </tr>\n",
       "    <tr>\n",
       "      <th>1</th>\n",
       "      <td>2019-01-02</td>\n",
       "      <td>189554</td>\n",
       "      <td>1</td>\n",
       "    </tr>\n",
       "    <tr>\n",
       "      <th>2</th>\n",
       "      <td>2019-01-03</td>\n",
       "      <td>169647</td>\n",
       "      <td>1</td>\n",
       "    </tr>\n",
       "    <tr>\n",
       "      <th>3</th>\n",
       "      <td>2019-01-04</td>\n",
       "      <td>173496</td>\n",
       "      <td>1</td>\n",
       "    </tr>\n",
       "    <tr>\n",
       "      <th>4</th>\n",
       "      <td>2019-01-05</td>\n",
       "      <td>167778</td>\n",
       "      <td>1</td>\n",
       "    </tr>\n",
       "    <tr>\n",
       "      <th>...</th>\n",
       "      <td>...</td>\n",
       "      <td>...</td>\n",
       "      <td>...</td>\n",
       "    </tr>\n",
       "    <tr>\n",
       "      <th>360</th>\n",
       "      <td>2019-12-27</td>\n",
       "      <td>154330</td>\n",
       "      <td>52</td>\n",
       "    </tr>\n",
       "    <tr>\n",
       "      <th>361</th>\n",
       "      <td>2019-12-28</td>\n",
       "      <td>153169</td>\n",
       "      <td>52</td>\n",
       "    </tr>\n",
       "    <tr>\n",
       "      <th>362</th>\n",
       "      <td>2019-12-29</td>\n",
       "      <td>182898</td>\n",
       "      <td>52</td>\n",
       "    </tr>\n",
       "    <tr>\n",
       "      <th>363</th>\n",
       "      <td>2019-12-30</td>\n",
       "      <td>162732</td>\n",
       "      <td>1</td>\n",
       "    </tr>\n",
       "    <tr>\n",
       "      <th>364</th>\n",
       "      <td>2019-12-31</td>\n",
       "      <td>141389</td>\n",
       "      <td>1</td>\n",
       "    </tr>\n",
       "  </tbody>\n",
       "</table>\n",
       "<p>365 rows × 3 columns</p>\n",
       "</div>"
      ],
      "text/plain": [
       "    Order_Date  Quantity  Week\n",
       "0   2019-01-01    149461     1\n",
       "1   2019-01-02    189554     1\n",
       "2   2019-01-03    169647     1\n",
       "3   2019-01-04    173496     1\n",
       "4   2019-01-05    167778     1\n",
       "..         ...       ...   ...\n",
       "360 2019-12-27    154330    52\n",
       "361 2019-12-28    153169    52\n",
       "362 2019-12-29    182898    52\n",
       "363 2019-12-30    162732     1\n",
       "364 2019-12-31    141389     1\n",
       "\n",
       "[365 rows x 3 columns]"
      ]
     },
     "execution_count": 208,
     "metadata": {},
     "output_type": "execute_result"
    }
   ],
   "source": [
    "# Getting week value\n",
    "daily_demand_total['Week']= daily_demand_total['Order_Date'].dt.isocalendar().week\n",
    "daily_demand_total"
   ]
  },
  {
   "cell_type": "code",
   "execution_count": null,
   "id": "4c894921",
   "metadata": {},
   "outputs": [],
   "source": [
    "weekly_demand_total=daily_demand_total.groupby(['Week'])['Quantity'].sum()\n",
    "weekly_demand_total=pd.DataFrame(data = weekly_demand_total).reset_index()\n",
    "weekly_demand_total.head(5)"
   ]
  },
  {
   "cell_type": "code",
   "execution_count": null,
   "id": "8d9c9d40",
   "metadata": {},
   "outputs": [],
   "source": [
    "import plotly.express as px\n",
    "\n",
    "def lineplot(df):\n",
    "    fig = px.line(df, x=\"Order_Date\", \n",
    "                  y = df.iloc[:, 5:].columns,\n",
    "                  title='Line Plot')\n",
    "\n",
    "    fig.update_xaxes(\n",
    "        rangeslider_visible=True,\n",
    "        rangeselector=dict(\n",
    "            buttons=list([\n",
    "                dict(count=1, label=\"week\", step=\"week\", stepmode=\"backward\"),\n",
    "                dict(count=6, label=\"6m\", step=\"month\", stepmode=\"backward\"),\n",
    "                dict(count=1, label=\"YTD\", step=\"year\", stepmode=\"todate\"),\n",
    "                dict(count=1, label=\"1y\", step=\"year\", stepmode=\"backward\"),\n",
    "                dict(step=\"all\")\n",
    "            ])\n",
    "        )\n",
    "    )\n",
    "    type(fig)\n",
    "    return fig\n",
    "\n",
    "\n",
    "def agg_lineplot(df, kwd1, kwd2):\n",
    "    fig = px.line(df, x=\"date\", \n",
    "                  y=df.columns[\n",
    "                      df.columns.str.contains(kwd1)  &\n",
    "                      df.columns.str.contains(kwd2)\n",
    "                  ],\n",
    "                  title='Aggregated Line Plot')\n",
    "\n",
    "    fig.update_xaxes(\n",
    "        rangeslider_visible=True,\n",
    "        rangeselector=dict(\n",
    "            buttons=list([\n",
    "                dict(count=1, label=\"1m\", step=\"month\", stepmode=\"backward\"),\n",
    "                dict(count=6, label=\"6m\", step=\"month\", stepmode=\"backward\"),\n",
    "                dict(count=1, label=\"YTD\", step=\"year\", stepmode=\"todate\"),\n",
    "                dict(count=1, label=\"1y\", step=\"year\", stepmode=\"backward\"),\n",
    "                dict(step=\"all\")\n",
    "            ])\n",
    "        )\n",
    "    )\n",
    "    type(fig)\n",
    "    return fig\n",
    "\n",
    "\n",
    "def agg_lineplot_3features(df, kwd1, kwd2, kwd3):\n",
    "    fig = px.line(df, x=\"date\", \n",
    "                  y=df.columns[\n",
    "                      df.columns.str.contains(kwd1)  &\n",
    "                      df.columns.str.contains(kwd2)  &\n",
    "                      df.columns.str.contains(kwd3)\n",
    "                  ],\n",
    "                  title='Aggregated Line Plot')\n",
    "\n",
    "    fig.update_xaxes(\n",
    "        rangeslider_visible=True,\n",
    "        rangeselector=dict(\n",
    "            buttons=list([\n",
    "                dict(count=1, label=\"1m\", step=\"month\", stepmode=\"backward\"),\n",
    "                dict(count=6, label=\"6m\", step=\"month\", stepmode=\"backward\"),\n",
    "                dict(count=1, label=\"YTD\", step=\"year\", stepmode=\"todate\"),\n",
    "                dict(count=1, label=\"1y\", step=\"year\", stepmode=\"backward\"),\n",
    "                dict(step=\"all\")\n",
    "            ])\n",
    "        )\n",
    "    )\n",
    "    type(fig)\n",
    "    return fig\n",
    "\n",
    "def agg_lineplot_4features(df, kwd1, kwd2, kwd3, kwd4):\n",
    "    fig = px.line(df, x=\"date\", \n",
    "                  y=df.columns[\n",
    "                      df.columns.str.contains(kwd1)  &\n",
    "                      df.columns.str.contains(kwd2)  &\n",
    "                      df.columns.str.contains(kwd3)  &\n",
    "                      df.columns.str.contains(kwd4)\n",
    "                  ],\n",
    "                  title='Aggregated Line Plot')\n",
    "\n",
    "    fig.update_xaxes(\n",
    "        rangeslider_visible=True,\n",
    "        rangeselector=dict(\n",
    "            buttons=list([\n",
    "                dict(count=1, label=\"1m\", step=\"month\", stepmode=\"backward\"),\n",
    "                dict(count=6, label=\"6m\", step=\"month\", stepmode=\"backward\"),\n",
    "                dict(count=1, label=\"YTD\", step=\"year\", stepmode=\"todate\"),\n",
    "                dict(count=1, label=\"1y\", step=\"year\", stepmode=\"backward\"),\n",
    "                dict(step=\"all\")\n",
    "            ])\n",
    "        )\n",
    "    )\n",
    "    type(fig)\n",
    "    return fig"
   ]
  },
  {
   "cell_type": "markdown",
   "id": "4882ed48",
   "metadata": {},
   "source": [
    "# c"
   ]
  },
  {
   "cell_type": "code",
   "execution_count": null,
   "id": "71222116",
   "metadata": {},
   "outputs": [],
   "source": []
  },
  {
   "cell_type": "markdown",
   "id": "6bb3a405",
   "metadata": {},
   "source": [
    "# Task 2"
   ]
  },
  {
   "cell_type": "code",
   "execution_count": null,
   "id": "fa84af06",
   "metadata": {},
   "outputs": [],
   "source": []
  },
  {
   "cell_type": "code",
   "execution_count": null,
   "id": "a399f589",
   "metadata": {},
   "outputs": [],
   "source": []
  }
 ],
 "metadata": {
  "kernelspec": {
   "display_name": "Python 3 (ipykernel)",
   "language": "python",
   "name": "python3"
  },
  "language_info": {
   "codemirror_mode": {
    "name": "ipython",
    "version": 3
   },
   "file_extension": ".py",
   "mimetype": "text/x-python",
   "name": "python",
   "nbconvert_exporter": "python",
   "pygments_lexer": "ipython3",
   "version": "3.9.7"
  }
 },
 "nbformat": 4,
 "nbformat_minor": 5
}
